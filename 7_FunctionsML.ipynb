{
 "cells": [
  {
   "cell_type": "markdown",
   "metadata": {},
   "source": [
    "#  **Functions and Machine Learning Model**"
   ]
  },
  {
   "cell_type": "markdown",
   "metadata": {},
   "source": [
    "Now that we have built two datasets for the functions and the ML model in files .parquet, let's load them: "
   ]
  },
  {
   "cell_type": "code",
   "execution_count": 1,
   "metadata": {},
   "outputs": [],
   "source": [
    "# Let's import json to create the responses un JSON format.\n",
    "import json"
   ]
  },
  {
   "cell_type": "code",
   "execution_count": 2,
   "metadata": {},
   "outputs": [
    {
     "data": {
      "text/html": [
       "<div>\n",
       "<style scoped>\n",
       "    .dataframe tbody tr th:only-of-type {\n",
       "        vertical-align: middle;\n",
       "    }\n",
       "\n",
       "    .dataframe tbody tr th {\n",
       "        vertical-align: top;\n",
       "    }\n",
       "\n",
       "    .dataframe thead th {\n",
       "        text-align: right;\n",
       "    }\n",
       "</style>\n",
       "<table border=\"1\" class=\"dataframe\">\n",
       "  <thead>\n",
       "    <tr style=\"text-align: right;\">\n",
       "      <th></th>\n",
       "      <th>user_id</th>\n",
       "      <th>release_year</th>\n",
       "      <th>genres</th>\n",
       "      <th>sum_playtime_forever</th>\n",
       "    </tr>\n",
       "  </thead>\n",
       "  <tbody>\n",
       "    <tr>\n",
       "      <th>0</th>\n",
       "      <td>--000--</td>\n",
       "      <td>2006</td>\n",
       "      <td>[Indie, Simulation]</td>\n",
       "      <td>1850.0</td>\n",
       "    </tr>\n",
       "    <tr>\n",
       "      <th>1</th>\n",
       "      <td>--000--</td>\n",
       "      <td>2009</td>\n",
       "      <td>[Action]</td>\n",
       "      <td>5329.0</td>\n",
       "    </tr>\n",
       "    <tr>\n",
       "      <th>2</th>\n",
       "      <td>--000--</td>\n",
       "      <td>2010</td>\n",
       "      <td>[Action, Free to Play, Indie]</td>\n",
       "      <td>66.0</td>\n",
       "    </tr>\n",
       "    <tr>\n",
       "      <th>3</th>\n",
       "      <td>--000--</td>\n",
       "      <td>2011</td>\n",
       "      <td>[Action, Adventure, Indie, RPG, Action, Free t...</td>\n",
       "      <td>15564.0</td>\n",
       "    </tr>\n",
       "    <tr>\n",
       "      <th>4</th>\n",
       "      <td>--000--</td>\n",
       "      <td>2012</td>\n",
       "      <td>[Action, Adventure, Casual, Indie, RPG, Action...</td>\n",
       "      <td>118326.0</td>\n",
       "    </tr>\n",
       "    <tr>\n",
       "      <th>...</th>\n",
       "      <td>...</td>\n",
       "      <td>...</td>\n",
       "      <td>...</td>\n",
       "      <td>...</td>\n",
       "    </tr>\n",
       "    <tr>\n",
       "      <th>660198</th>\n",
       "      <td>zzzmidmiss</td>\n",
       "      <td>2010</td>\n",
       "      <td>[Action, Free to Play, Indie, Adventure, Strat...</td>\n",
       "      <td>1237.0</td>\n",
       "    </tr>\n",
       "    <tr>\n",
       "      <th>660199</th>\n",
       "      <td>zzzmidmiss</td>\n",
       "      <td>2011</td>\n",
       "      <td>[Action, Free to Play, Massively Multiplayer, ...</td>\n",
       "      <td>2514.0</td>\n",
       "    </tr>\n",
       "    <tr>\n",
       "      <th>660200</th>\n",
       "      <td>zzzmidmiss</td>\n",
       "      <td>2012</td>\n",
       "      <td>[Action, Adventure, Action, Free to Play, Indi...</td>\n",
       "      <td>14467.0</td>\n",
       "    </tr>\n",
       "    <tr>\n",
       "      <th>660201</th>\n",
       "      <td>zzzmidmiss</td>\n",
       "      <td>2013</td>\n",
       "      <td>[Action, Adventure, Indie, RPG, Action, Free t...</td>\n",
       "      <td>423.0</td>\n",
       "    </tr>\n",
       "    <tr>\n",
       "      <th>660202</th>\n",
       "      <td>zzzmidmiss</td>\n",
       "      <td>2014</td>\n",
       "      <td>[Action, Adventure, Free to Play, Simulation, ...</td>\n",
       "      <td>80.0</td>\n",
       "    </tr>\n",
       "  </tbody>\n",
       "</table>\n",
       "<p>660203 rows × 4 columns</p>\n",
       "</div>"
      ],
      "text/plain": [
       "           user_id  release_year  \\\n",
       "0          --000--          2006   \n",
       "1          --000--          2009   \n",
       "2          --000--          2010   \n",
       "3          --000--          2011   \n",
       "4          --000--          2012   \n",
       "...            ...           ...   \n",
       "660198  zzzmidmiss          2010   \n",
       "660199  zzzmidmiss          2011   \n",
       "660200  zzzmidmiss          2012   \n",
       "660201  zzzmidmiss          2013   \n",
       "660202  zzzmidmiss          2014   \n",
       "\n",
       "                                                   genres  \\\n",
       "0                                     [Indie, Simulation]   \n",
       "1                                                [Action]   \n",
       "2                           [Action, Free to Play, Indie]   \n",
       "3       [Action, Adventure, Indie, RPG, Action, Free t...   \n",
       "4       [Action, Adventure, Casual, Indie, RPG, Action...   \n",
       "...                                                   ...   \n",
       "660198  [Action, Free to Play, Indie, Adventure, Strat...   \n",
       "660199  [Action, Free to Play, Massively Multiplayer, ...   \n",
       "660200  [Action, Adventure, Action, Free to Play, Indi...   \n",
       "660201  [Action, Adventure, Indie, RPG, Action, Free t...   \n",
       "660202  [Action, Adventure, Free to Play, Simulation, ...   \n",
       "\n",
       "        sum_playtime_forever  \n",
       "0                     1850.0  \n",
       "1                     5329.0  \n",
       "2                       66.0  \n",
       "3                    15564.0  \n",
       "4                   118326.0  \n",
       "...                      ...  \n",
       "660198                1237.0  \n",
       "660199                2514.0  \n",
       "660200               14467.0  \n",
       "660201                 423.0  \n",
       "660202                  80.0  \n",
       "\n",
       "[660203 rows x 4 columns]"
      ]
     },
     "execution_count": 2,
     "metadata": {},
     "output_type": "execute_result"
    }
   ],
   "source": [
    "import pandas as pd\n",
    "import numpy as np\n",
    "\n",
    "df_F12 = pd.read_parquet('F12.parquet')\n",
    "df_F12"
   ]
  },
  {
   "cell_type": "code",
   "execution_count": 3,
   "metadata": {},
   "outputs": [
    {
     "name": "stdout",
     "output_type": "stream",
     "text": [
      "<class 'pandas.core.frame.DataFrame'>\n",
      "RangeIndex: 660203 entries, 0 to 660202\n",
      "Data columns (total 4 columns):\n",
      " #   Column                Non-Null Count   Dtype  \n",
      "---  ------                --------------   -----  \n",
      " 0   user_id               660203 non-null  object \n",
      " 1   release_year          660203 non-null  int64  \n",
      " 2   genres                660203 non-null  object \n",
      " 3   sum_playtime_forever  660203 non-null  float64\n",
      "dtypes: float64(1), int64(1), object(2)\n",
      "memory usage: 20.1+ MB\n"
     ]
    }
   ],
   "source": [
    "df_F12.info()"
   ]
  },
  {
   "cell_type": "markdown",
   "metadata": {},
   "source": [
    "The columns genres of the df_F12 dataframe comes as an array from the .parquet file. To optimize the performance of the functions, it is better to convert those items into lists."
   ]
  },
  {
   "cell_type": "code",
   "execution_count": 4,
   "metadata": {},
   "outputs": [
    {
     "data": {
      "text/html": [
       "<div>\n",
       "<style scoped>\n",
       "    .dataframe tbody tr th:only-of-type {\n",
       "        vertical-align: middle;\n",
       "    }\n",
       "\n",
       "    .dataframe tbody tr th {\n",
       "        vertical-align: top;\n",
       "    }\n",
       "\n",
       "    .dataframe thead th {\n",
       "        text-align: right;\n",
       "    }\n",
       "</style>\n",
       "<table border=\"1\" class=\"dataframe\">\n",
       "  <thead>\n",
       "    <tr style=\"text-align: right;\">\n",
       "      <th></th>\n",
       "      <th>user_id</th>\n",
       "      <th>release_year</th>\n",
       "      <th>genres</th>\n",
       "      <th>sum_playtime_forever</th>\n",
       "    </tr>\n",
       "  </thead>\n",
       "  <tbody>\n",
       "    <tr>\n",
       "      <th>0</th>\n",
       "      <td>--000--</td>\n",
       "      <td>2006</td>\n",
       "      <td>[Indie, Simulation]</td>\n",
       "      <td>1850.0</td>\n",
       "    </tr>\n",
       "    <tr>\n",
       "      <th>1</th>\n",
       "      <td>--000--</td>\n",
       "      <td>2009</td>\n",
       "      <td>[Action]</td>\n",
       "      <td>5329.0</td>\n",
       "    </tr>\n",
       "    <tr>\n",
       "      <th>2</th>\n",
       "      <td>--000--</td>\n",
       "      <td>2010</td>\n",
       "      <td>[Action, Free to Play, Indie]</td>\n",
       "      <td>66.0</td>\n",
       "    </tr>\n",
       "    <tr>\n",
       "      <th>3</th>\n",
       "      <td>--000--</td>\n",
       "      <td>2011</td>\n",
       "      <td>[Action, Adventure, Indie, RPG, Action, Free t...</td>\n",
       "      <td>15564.0</td>\n",
       "    </tr>\n",
       "    <tr>\n",
       "      <th>4</th>\n",
       "      <td>--000--</td>\n",
       "      <td>2012</td>\n",
       "      <td>[Action, Adventure, Casual, Indie, RPG, Action...</td>\n",
       "      <td>118326.0</td>\n",
       "    </tr>\n",
       "    <tr>\n",
       "      <th>...</th>\n",
       "      <td>...</td>\n",
       "      <td>...</td>\n",
       "      <td>...</td>\n",
       "      <td>...</td>\n",
       "    </tr>\n",
       "    <tr>\n",
       "      <th>660198</th>\n",
       "      <td>zzzmidmiss</td>\n",
       "      <td>2010</td>\n",
       "      <td>[Action, Free to Play, Indie, Adventure, Strat...</td>\n",
       "      <td>1237.0</td>\n",
       "    </tr>\n",
       "    <tr>\n",
       "      <th>660199</th>\n",
       "      <td>zzzmidmiss</td>\n",
       "      <td>2011</td>\n",
       "      <td>[Action, Free to Play, Massively Multiplayer, ...</td>\n",
       "      <td>2514.0</td>\n",
       "    </tr>\n",
       "    <tr>\n",
       "      <th>660200</th>\n",
       "      <td>zzzmidmiss</td>\n",
       "      <td>2012</td>\n",
       "      <td>[Action, Adventure, Action, Free to Play, Indi...</td>\n",
       "      <td>14467.0</td>\n",
       "    </tr>\n",
       "    <tr>\n",
       "      <th>660201</th>\n",
       "      <td>zzzmidmiss</td>\n",
       "      <td>2013</td>\n",
       "      <td>[Action, Adventure, Indie, RPG, Action, Free t...</td>\n",
       "      <td>423.0</td>\n",
       "    </tr>\n",
       "    <tr>\n",
       "      <th>660202</th>\n",
       "      <td>zzzmidmiss</td>\n",
       "      <td>2014</td>\n",
       "      <td>[Action, Adventure, Free to Play, Simulation, ...</td>\n",
       "      <td>80.0</td>\n",
       "    </tr>\n",
       "  </tbody>\n",
       "</table>\n",
       "<p>660203 rows × 4 columns</p>\n",
       "</div>"
      ],
      "text/plain": [
       "           user_id  release_year  \\\n",
       "0          --000--          2006   \n",
       "1          --000--          2009   \n",
       "2          --000--          2010   \n",
       "3          --000--          2011   \n",
       "4          --000--          2012   \n",
       "...            ...           ...   \n",
       "660198  zzzmidmiss          2010   \n",
       "660199  zzzmidmiss          2011   \n",
       "660200  zzzmidmiss          2012   \n",
       "660201  zzzmidmiss          2013   \n",
       "660202  zzzmidmiss          2014   \n",
       "\n",
       "                                                   genres  \\\n",
       "0                                     [Indie, Simulation]   \n",
       "1                                                [Action]   \n",
       "2                           [Action, Free to Play, Indie]   \n",
       "3       [Action, Adventure, Indie, RPG, Action, Free t...   \n",
       "4       [Action, Adventure, Casual, Indie, RPG, Action...   \n",
       "...                                                   ...   \n",
       "660198  [Action, Free to Play, Indie, Adventure, Strat...   \n",
       "660199  [Action, Free to Play, Massively Multiplayer, ...   \n",
       "660200  [Action, Adventure, Action, Free to Play, Indi...   \n",
       "660201  [Action, Adventure, Indie, RPG, Action, Free t...   \n",
       "660202  [Action, Adventure, Free to Play, Simulation, ...   \n",
       "\n",
       "        sum_playtime_forever  \n",
       "0                     1850.0  \n",
       "1                     5329.0  \n",
       "2                       66.0  \n",
       "3                    15564.0  \n",
       "4                   118326.0  \n",
       "...                      ...  \n",
       "660198                1237.0  \n",
       "660199                2514.0  \n",
       "660200               14467.0  \n",
       "660201                 423.0  \n",
       "660202                  80.0  \n",
       "\n",
       "[660203 rows x 4 columns]"
      ]
     },
     "execution_count": 4,
     "metadata": {},
     "output_type": "execute_result"
    }
   ],
   "source": [
    "def convert_to_list(genres_array):\n",
    "    return [element.strip(\"'\") for element in genres_array]\n",
    "\n",
    "# Aplica la función a la columna 'genres' y reemplaza la columna\n",
    "df_F12['genres'] = df_F12['genres'].apply(convert_to_list)\n",
    "df_F12"
   ]
  },
  {
   "cell_type": "code",
   "execution_count": 5,
   "metadata": {},
   "outputs": [
    {
     "data": {
      "text/html": [
       "<div>\n",
       "<style scoped>\n",
       "    .dataframe tbody tr th:only-of-type {\n",
       "        vertical-align: middle;\n",
       "    }\n",
       "\n",
       "    .dataframe tbody tr th {\n",
       "        vertical-align: top;\n",
       "    }\n",
       "\n",
       "    .dataframe thead th {\n",
       "        text-align: right;\n",
       "    }\n",
       "</style>\n",
       "<table border=\"1\" class=\"dataframe\">\n",
       "  <thead>\n",
       "    <tr style=\"text-align: right;\">\n",
       "      <th></th>\n",
       "      <th>item_id</th>\n",
       "      <th>title</th>\n",
       "      <th>release_year</th>\n",
       "      <th>genres</th>\n",
       "      <th>user_id</th>\n",
       "      <th>sum_playtime_forever</th>\n",
       "      <th>recommend</th>\n",
       "      <th>sentiment_analysis</th>\n",
       "      <th>review_year</th>\n",
       "    </tr>\n",
       "  </thead>\n",
       "  <tbody>\n",
       "    <tr>\n",
       "      <th>0</th>\n",
       "      <td>10.0</td>\n",
       "      <td>Counter-Strike</td>\n",
       "      <td>2000</td>\n",
       "      <td>['Action']</td>\n",
       "      <td>71251241</td>\n",
       "      <td>566.0</td>\n",
       "      <td>True</td>\n",
       "      <td>2</td>\n",
       "      <td>2015</td>\n",
       "    </tr>\n",
       "    <tr>\n",
       "      <th>1</th>\n",
       "      <td>10.0</td>\n",
       "      <td>Counter-Strike</td>\n",
       "      <td>2000</td>\n",
       "      <td>['Action']</td>\n",
       "      <td>76561198015886143</td>\n",
       "      <td>144786.0</td>\n",
       "      <td>True</td>\n",
       "      <td>1</td>\n",
       "      <td>2015</td>\n",
       "    </tr>\n",
       "    <tr>\n",
       "      <th>2</th>\n",
       "      <td>10.0</td>\n",
       "      <td>Counter-Strike</td>\n",
       "      <td>2000</td>\n",
       "      <td>['Action']</td>\n",
       "      <td>76561198040188061</td>\n",
       "      <td>3895.0</td>\n",
       "      <td>True</td>\n",
       "      <td>2</td>\n",
       "      <td>2011</td>\n",
       "    </tr>\n",
       "    <tr>\n",
       "      <th>3</th>\n",
       "      <td>10.0</td>\n",
       "      <td>Counter-Strike</td>\n",
       "      <td>2000</td>\n",
       "      <td>['Action']</td>\n",
       "      <td>76561198072207162</td>\n",
       "      <td>54.0</td>\n",
       "      <td>True</td>\n",
       "      <td>2</td>\n",
       "      <td>2014</td>\n",
       "    </tr>\n",
       "    <tr>\n",
       "      <th>4</th>\n",
       "      <td>10.0</td>\n",
       "      <td>Counter-Strike</td>\n",
       "      <td>2000</td>\n",
       "      <td>['Action']</td>\n",
       "      <td>76561198076217855</td>\n",
       "      <td>3848.0</td>\n",
       "      <td>True</td>\n",
       "      <td>2</td>\n",
       "      <td>2014</td>\n",
       "    </tr>\n",
       "    <tr>\n",
       "      <th>...</th>\n",
       "      <td>...</td>\n",
       "      <td>...</td>\n",
       "      <td>...</td>\n",
       "      <td>...</td>\n",
       "      <td>...</td>\n",
       "      <td>...</td>\n",
       "      <td>...</td>\n",
       "      <td>...</td>\n",
       "      <td>...</td>\n",
       "    </tr>\n",
       "    <tr>\n",
       "      <th>39144</th>\n",
       "      <td>521430.0</td>\n",
       "      <td>Super Switch</td>\n",
       "      <td>2016</td>\n",
       "      <td>['Indie']</td>\n",
       "      <td>76561198075141715</td>\n",
       "      <td>5.0</td>\n",
       "      <td>True</td>\n",
       "      <td>2</td>\n",
       "      <td>2016</td>\n",
       "    </tr>\n",
       "    <tr>\n",
       "      <th>39145</th>\n",
       "      <td>521570.0</td>\n",
       "      <td>You Have 10 Seconds 2</td>\n",
       "      <td>2016</td>\n",
       "      <td>['Casual', 'Free to Play', 'Indie']</td>\n",
       "      <td>76561198071122396</td>\n",
       "      <td>25.0</td>\n",
       "      <td>True</td>\n",
       "      <td>0</td>\n",
       "      <td>2016</td>\n",
       "    </tr>\n",
       "    <tr>\n",
       "      <th>39146</th>\n",
       "      <td>521570.0</td>\n",
       "      <td>You Have 10 Seconds 2</td>\n",
       "      <td>2016</td>\n",
       "      <td>['Casual', 'Free to Play', 'Indie']</td>\n",
       "      <td>TfhuAWGscvg</td>\n",
       "      <td>54.0</td>\n",
       "      <td>True</td>\n",
       "      <td>0</td>\n",
       "      <td>2016</td>\n",
       "    </tr>\n",
       "    <tr>\n",
       "      <th>39147</th>\n",
       "      <td>521990.0</td>\n",
       "      <td>Galactic Storm</td>\n",
       "      <td>2016</td>\n",
       "      <td>['Action', 'Indie']</td>\n",
       "      <td>mikeyg74</td>\n",
       "      <td>16.0</td>\n",
       "      <td>True</td>\n",
       "      <td>2</td>\n",
       "      <td>2016</td>\n",
       "    </tr>\n",
       "    <tr>\n",
       "      <th>39148</th>\n",
       "      <td>527340.0</td>\n",
       "      <td>What The Box?</td>\n",
       "      <td>2016</td>\n",
       "      <td>['Action', 'Indie']</td>\n",
       "      <td>Limo1300</td>\n",
       "      <td>147.0</td>\n",
       "      <td>True</td>\n",
       "      <td>0</td>\n",
       "      <td>2016</td>\n",
       "    </tr>\n",
       "  </tbody>\n",
       "</table>\n",
       "<p>39149 rows × 9 columns</p>\n",
       "</div>"
      ],
      "text/plain": [
       "        item_id                  title  release_year  \\\n",
       "0          10.0         Counter-Strike          2000   \n",
       "1          10.0         Counter-Strike          2000   \n",
       "2          10.0         Counter-Strike          2000   \n",
       "3          10.0         Counter-Strike          2000   \n",
       "4          10.0         Counter-Strike          2000   \n",
       "...         ...                    ...           ...   \n",
       "39144  521430.0           Super Switch          2016   \n",
       "39145  521570.0  You Have 10 Seconds 2          2016   \n",
       "39146  521570.0  You Have 10 Seconds 2          2016   \n",
       "39147  521990.0         Galactic Storm          2016   \n",
       "39148  527340.0          What The Box?          2016   \n",
       "\n",
       "                                    genres            user_id  \\\n",
       "0                               ['Action']           71251241   \n",
       "1                               ['Action']  76561198015886143   \n",
       "2                               ['Action']  76561198040188061   \n",
       "3                               ['Action']  76561198072207162   \n",
       "4                               ['Action']  76561198076217855   \n",
       "...                                    ...                ...   \n",
       "39144                            ['Indie']  76561198075141715   \n",
       "39145  ['Casual', 'Free to Play', 'Indie']  76561198071122396   \n",
       "39146  ['Casual', 'Free to Play', 'Indie']        TfhuAWGscvg   \n",
       "39147                  ['Action', 'Indie']           mikeyg74   \n",
       "39148                  ['Action', 'Indie']           Limo1300   \n",
       "\n",
       "       sum_playtime_forever  recommend  sentiment_analysis  review_year  \n",
       "0                     566.0       True                   2         2015  \n",
       "1                  144786.0       True                   1         2015  \n",
       "2                    3895.0       True                   2         2011  \n",
       "3                      54.0       True                   2         2014  \n",
       "4                    3848.0       True                   2         2014  \n",
       "...                     ...        ...                 ...          ...  \n",
       "39144                   5.0       True                   2         2016  \n",
       "39145                  25.0       True                   0         2016  \n",
       "39146                  54.0       True                   0         2016  \n",
       "39147                  16.0       True                   2         2016  \n",
       "39148                 147.0       True                   0         2016  \n",
       "\n",
       "[39149 rows x 9 columns]"
      ]
     },
     "execution_count": 5,
     "metadata": {},
     "output_type": "execute_result"
    }
   ],
   "source": [
    "df_F345 = pd.read_parquet('F345.parquet')\n",
    "df_F345"
   ]
  },
  {
   "cell_type": "code",
   "execution_count": 6,
   "metadata": {},
   "outputs": [
    {
     "name": "stdout",
     "output_type": "stream",
     "text": [
      "<class 'pandas.core.frame.DataFrame'>\n",
      "RangeIndex: 39149 entries, 0 to 39148\n",
      "Data columns (total 9 columns):\n",
      " #   Column                Non-Null Count  Dtype  \n",
      "---  ------                --------------  -----  \n",
      " 0   item_id               39149 non-null  float64\n",
      " 1   title                 39149 non-null  string \n",
      " 2   release_year          39149 non-null  int64  \n",
      " 3   genres                39015 non-null  object \n",
      " 4   user_id               39149 non-null  object \n",
      " 5   sum_playtime_forever  39149 non-null  float64\n",
      " 6   recommend             39149 non-null  bool   \n",
      " 7   sentiment_analysis    39149 non-null  int64  \n",
      " 8   review_year           39149 non-null  int64  \n",
      "dtypes: bool(1), float64(2), int64(3), object(2), string(1)\n",
      "memory usage: 2.4+ MB\n"
     ]
    }
   ],
   "source": [
    "df_F345.info()"
   ]
  },
  {
   "cell_type": "markdown",
   "metadata": {},
   "source": [
    "Now, let's take a look at the functions or queries that we need to develop:\n",
    "\n",
    "1. **PlayTimeGenre**(`genre`: str) Function:\n",
    "\n",
    "It should return the release year with the most played hours for the given `genre`.\n",
    "\n",
    "Example of return: {\"Release year with the most played hours for Genre X\" : 2013}\n",
    "\n",
    "2. **UserForGenre**(`genre`: str) Function:\n",
    "\n",
    "It should return the user who has accumulated the most played hours for the given `genre` and a list of the accumulated playtime by release year.\n",
    "\n",
    "Example of return: {\"User with the most played hours for Genre X\" : us213ndjss09sdf, \"Playtime\":[{Year: 2013, Hours: 203}, {Year: 2012, Hours: 100}, {Year: 2011, Hours: 23}]}\n",
    "\n",
    "3. **UsersRecommend**(`year`: int) Function:\n",
    "\n",
    "It returns the top 3 games MOST recommended by users for the given `year` (reviews.recommend = True and positive/neutral comments).\n",
    "\n",
    "Example of return: [{\"Rank 1\" : X}, {\"Rank 2\" : Y},{\"Rank 3\" : Z}]\n",
    "\n",
    "4. **UsersNotRecommend**(`year`: int) Function:\n",
    "\n",
    "It returns the top 3 games LEAST recommended by users for the given `year` (reviews.recommend = False and negative comments).\n",
    "\n",
    "Example of return: [{\"Rank 1\" : X}, {\"Rank 2\" : Y},{\"Rank 3\" : Z}]\n",
    "\n",
    "5. **Sentiment_analysis**(`year`: int) Function:\n",
    "\n",
    "Based on the release `year`, it returns a list with the count of user review records categorized with sentiment analysis.\n",
    "\n",
    "Example of return: {\"Negative\": 182, \"Neutral\": 120, \"Positive\": 278}"
   ]
  },
  {
   "cell_type": "markdown",
   "metadata": {},
   "source": [
    "### 1. **PlayTimeGenre**(`genre`: str) Function:"
   ]
  },
  {
   "cell_type": "markdown",
   "metadata": {},
   "source": [
    "It should return the release year with the most played hours for the given `genre`.\n",
    "\n",
    "Example of return: {\"Release year with the most played hours for Genre X\" : 2013}"
   ]
  },
  {
   "cell_type": "markdown",
   "metadata": {},
   "source": [
    "For this function, we may need only the following columns of the df_F12 dataframe:\n",
    "\n",
    "- genres.\n",
    "- release_year.\n",
    "- sum_playtime_forever."
   ]
  },
  {
   "cell_type": "code",
   "execution_count": 7,
   "metadata": {},
   "outputs": [
    {
     "data": {
      "text/html": [
       "<div>\n",
       "<style scoped>\n",
       "    .dataframe tbody tr th:only-of-type {\n",
       "        vertical-align: middle;\n",
       "    }\n",
       "\n",
       "    .dataframe tbody tr th {\n",
       "        vertical-align: top;\n",
       "    }\n",
       "\n",
       "    .dataframe thead th {\n",
       "        text-align: right;\n",
       "    }\n",
       "</style>\n",
       "<table border=\"1\" class=\"dataframe\">\n",
       "  <thead>\n",
       "    <tr style=\"text-align: right;\">\n",
       "      <th></th>\n",
       "      <th>genres</th>\n",
       "      <th>release_year</th>\n",
       "      <th>sum_playtime_forever</th>\n",
       "    </tr>\n",
       "  </thead>\n",
       "  <tbody>\n",
       "    <tr>\n",
       "      <th>0</th>\n",
       "      <td>[Indie, Simulation]</td>\n",
       "      <td>2006</td>\n",
       "      <td>1850.0</td>\n",
       "    </tr>\n",
       "    <tr>\n",
       "      <th>1</th>\n",
       "      <td>[Action]</td>\n",
       "      <td>2009</td>\n",
       "      <td>5329.0</td>\n",
       "    </tr>\n",
       "    <tr>\n",
       "      <th>2</th>\n",
       "      <td>[Action, Free to Play, Indie]</td>\n",
       "      <td>2010</td>\n",
       "      <td>66.0</td>\n",
       "    </tr>\n",
       "    <tr>\n",
       "      <th>3</th>\n",
       "      <td>[Action, Adventure, Indie, RPG, Action, Free t...</td>\n",
       "      <td>2011</td>\n",
       "      <td>15564.0</td>\n",
       "    </tr>\n",
       "    <tr>\n",
       "      <th>4</th>\n",
       "      <td>[Action, Adventure, Casual, Indie, RPG, Action...</td>\n",
       "      <td>2012</td>\n",
       "      <td>118326.0</td>\n",
       "    </tr>\n",
       "    <tr>\n",
       "      <th>...</th>\n",
       "      <td>...</td>\n",
       "      <td>...</td>\n",
       "      <td>...</td>\n",
       "    </tr>\n",
       "    <tr>\n",
       "      <th>660198</th>\n",
       "      <td>[Action, Free to Play, Indie, Adventure, Strat...</td>\n",
       "      <td>2010</td>\n",
       "      <td>1237.0</td>\n",
       "    </tr>\n",
       "    <tr>\n",
       "      <th>660199</th>\n",
       "      <td>[Action, Free to Play, Massively Multiplayer, ...</td>\n",
       "      <td>2011</td>\n",
       "      <td>2514.0</td>\n",
       "    </tr>\n",
       "    <tr>\n",
       "      <th>660200</th>\n",
       "      <td>[Action, Adventure, Action, Free to Play, Indi...</td>\n",
       "      <td>2012</td>\n",
       "      <td>14467.0</td>\n",
       "    </tr>\n",
       "    <tr>\n",
       "      <th>660201</th>\n",
       "      <td>[Action, Adventure, Indie, RPG, Action, Free t...</td>\n",
       "      <td>2013</td>\n",
       "      <td>423.0</td>\n",
       "    </tr>\n",
       "    <tr>\n",
       "      <th>660202</th>\n",
       "      <td>[Action, Adventure, Free to Play, Simulation, ...</td>\n",
       "      <td>2014</td>\n",
       "      <td>80.0</td>\n",
       "    </tr>\n",
       "  </tbody>\n",
       "</table>\n",
       "<p>660203 rows × 3 columns</p>\n",
       "</div>"
      ],
      "text/plain": [
       "                                                   genres  release_year  \\\n",
       "0                                     [Indie, Simulation]          2006   \n",
       "1                                                [Action]          2009   \n",
       "2                           [Action, Free to Play, Indie]          2010   \n",
       "3       [Action, Adventure, Indie, RPG, Action, Free t...          2011   \n",
       "4       [Action, Adventure, Casual, Indie, RPG, Action...          2012   \n",
       "...                                                   ...           ...   \n",
       "660198  [Action, Free to Play, Indie, Adventure, Strat...          2010   \n",
       "660199  [Action, Free to Play, Massively Multiplayer, ...          2011   \n",
       "660200  [Action, Adventure, Action, Free to Play, Indi...          2012   \n",
       "660201  [Action, Adventure, Indie, RPG, Action, Free t...          2013   \n",
       "660202  [Action, Adventure, Free to Play, Simulation, ...          2014   \n",
       "\n",
       "        sum_playtime_forever  \n",
       "0                     1850.0  \n",
       "1                     5329.0  \n",
       "2                       66.0  \n",
       "3                    15564.0  \n",
       "4                   118326.0  \n",
       "...                      ...  \n",
       "660198                1237.0  \n",
       "660199                2514.0  \n",
       "660200               14467.0  \n",
       "660201                 423.0  \n",
       "660202                  80.0  \n",
       "\n",
       "[660203 rows x 3 columns]"
      ]
     },
     "execution_count": 7,
     "metadata": {},
     "output_type": "execute_result"
    }
   ],
   "source": [
    "df_f1 = df_F12[['genres','release_year','sum_playtime_forever']]\n",
    "df_f1"
   ]
  },
  {
   "cell_type": "code",
   "execution_count": 8,
   "metadata": {},
   "outputs": [
    {
     "name": "stdout",
     "output_type": "stream",
     "text": [
      "<class 'pandas.core.frame.DataFrame'>\n",
      "RangeIndex: 660203 entries, 0 to 660202\n",
      "Data columns (total 3 columns):\n",
      " #   Column                Non-Null Count   Dtype  \n",
      "---  ------                --------------   -----  \n",
      " 0   genres                660203 non-null  object \n",
      " 1   release_year          660203 non-null  int64  \n",
      " 2   sum_playtime_forever  660203 non-null  float64\n",
      "dtypes: float64(1), int64(1), object(1)\n",
      "memory usage: 15.1+ MB\n"
     ]
    }
   ],
   "source": [
    "df_f1.info()"
   ]
  },
  {
   "cell_type": "markdown",
   "metadata": {},
   "source": [
    "Now as part of the process of validating that the genre entered by the user is valid, we need to know all the genres that are in the dataset."
   ]
  },
  {
   "cell_type": "code",
   "execution_count": 9,
   "metadata": {},
   "outputs": [
    {
     "data": {
      "text/plain": [
       "['Web Publishing',\n",
       " 'Adventure',\n",
       " 'Indie',\n",
       " 'Strategy',\n",
       " 'Simulation',\n",
       " 'Free to Play',\n",
       " 'Early Access',\n",
       " 'Design &amp; Illustration',\n",
       " 'Software Training',\n",
       " 'Racing',\n",
       " 'Sports',\n",
       " 'Photo Editing',\n",
       " 'Action',\n",
       " 'Education',\n",
       " 'Animation &amp; Modeling',\n",
       " 'Audio Production',\n",
       " 'Utilities',\n",
       " 'Massively Multiplayer',\n",
       " 'Video Production',\n",
       " 'RPG',\n",
       " 'Casual']"
      ]
     },
     "execution_count": 9,
     "metadata": {},
     "output_type": "execute_result"
    }
   ],
   "source": [
    "unique_genres = set()\n",
    "for genres_list in df_f1['genres']:\n",
    "    unique_genres.update(genres_list)\n",
    "\n",
    "# Let's obtain the unique list of genres\n",
    "unique_genres_list = list(unique_genres)\n",
    "unique_genres_list"
   ]
  },
  {
   "cell_type": "markdown",
   "metadata": {},
   "source": [
    "To improve the function performance, we need that all the genres are in the same format. So we are going to capitalize all the words using the following function:"
   ]
  },
  {
   "cell_type": "code",
   "execution_count": 10,
   "metadata": {},
   "outputs": [],
   "source": [
    "def normalize_list_of_words(sentences_list):\n",
    "    # Function to normalize a list of sentences capitalizing the first letter of each word.\n",
    "    normalized_sentences = []\n",
    "    for sentence in sentences_list:\n",
    "        words = sentence.split()  # We divide the sentence into words\n",
    "        normalized_words = [word.capitalize() for word in words]  # We capitalize each word\n",
    "        normalized_sentence = ' '.join(normalized_words)  # Join the words into a sentence\n",
    "        normalized_sentences.append(normalized_sentence)\n",
    "    return normalized_sentences"
   ]
  },
  {
   "cell_type": "code",
   "execution_count": 11,
   "metadata": {},
   "outputs": [
    {
     "data": {
      "text/plain": [
       "['Web Publishing',\n",
       " 'Adventure',\n",
       " 'Indie',\n",
       " 'Strategy',\n",
       " 'Simulation',\n",
       " 'Free To Play',\n",
       " 'Early Access',\n",
       " 'Design &amp; Illustration',\n",
       " 'Software Training',\n",
       " 'Racing',\n",
       " 'Sports',\n",
       " 'Photo Editing',\n",
       " 'Action',\n",
       " 'Education',\n",
       " 'Animation &amp; Modeling',\n",
       " 'Audio Production',\n",
       " 'Utilities',\n",
       " 'Massively Multiplayer',\n",
       " 'Video Production',\n",
       " 'Rpg',\n",
       " 'Casual']"
      ]
     },
     "execution_count": 11,
     "metadata": {},
     "output_type": "execute_result"
    }
   ],
   "source": [
    "normalized_genres = normalize_list_of_words(unique_genres_list)\n",
    "normalized_genres"
   ]
  },
  {
   "cell_type": "markdown",
   "metadata": {},
   "source": [
    "We can check that there are 21 genres in the dataset. We are going to use this list as a validation tool in the function."
   ]
  },
  {
   "cell_type": "markdown",
   "metadata": {},
   "source": [
    "This function has the following steps:\n",
    "\n",
    "1. Evaluates that the genre inserted by the user is a string.\n",
    "2. Nomalize the genre entered by the user capitalizing the first word of each word.\n",
    "3. Check if the genre normalized is in the list of normalized genres.\n",
    "4. There are two genres that need special attention: \"Free to Play\",\"RPG\". They are not normalized in the original dataframe of genres. We need to make sure that they are written the same way they are in the original dataframe.\n",
    "5. We select all the rows that contain that genre in the dataframe.\n",
    "6. In the filtered dataframe, we group by 'release_year' summing 'sum_playtime_forever'.\n",
    "7. Finally we select the 'release_year' that has the maximum 'sum_playtime_forever'.\n",
    "8. Organize the results as a JSON format.\n",
    "\n",
    "**NOTE:** This function has some quality features that send messages to the user when the genre is written with the correct letters but not respecting the standardized way of writting (First letter in capital and the rest without capitalizing). Also, send a message when the user inserts a genre that does not exist or write something different of string.  "
   ]
  },
  {
   "cell_type": "markdown",
   "metadata": {},
   "source": [
    "Also, we need to create a function to capitalize the first leter of a word in order to estandarize the words entered by the user."
   ]
  },
  {
   "cell_type": "code",
   "execution_count": 12,
   "metadata": {},
   "outputs": [],
   "source": [
    "def capitalize_first_words_in_sentence(sentence):\n",
    "    # Function to capitalize the first letter of each word in a sentence\n",
    "    words = sentence.split()  # Split the sentence into words\n",
    "    capitalized_words = [word[0].capitalize() + word.lower()[1:] for word in words]  # Capitalize the first letter of each word\n",
    "    return ' '.join(capitalized_words)  # Join the words into a capitalized sentence"
   ]
  },
  {
   "cell_type": "markdown",
   "metadata": {},
   "source": [
    "Now, let's go to the function:"
   ]
  },
  {
   "cell_type": "code",
   "execution_count": 54,
   "metadata": {},
   "outputs": [],
   "source": [
    "def PlayTimeGenre(genre):\n",
    "    # This function returns the release year with the most played hours for the given 'genre'.\n",
    "    # Example of return: {\"Release year with the most played hours for Genre X\" : 2013}\n",
    "    \n",
    "    #We need to mke sure that the genre inserted by the user is a string\n",
    "    if type(genre) == str:\n",
    "        # The first thing that we need to do is to validate that the genre entered by the user is in the list of genres.\n",
    "        # We need to normalize the genre entered by the user.\n",
    "        norm_genre = capitalize_first_words_in_sentence(genre)\n",
    "\n",
    "        #Now, let's look for that genre in the normalized list of genres:\n",
    "        if norm_genre in normalized_genres:\n",
    "\n",
    "            # Let's suppose that we are going to look for the genre 'norm_genre' as an input from the user.\n",
    "            genre_to_find = norm_genre\n",
    "\n",
    "            # There are two genres that need special attention: \"Free to Play\",\"RPG\". Because they are not normalized in the\n",
    "            # original dataframe where we are going to search later. So let's transform them:\n",
    "            if norm_genre == 'Free To Play':\n",
    "                genre_to_find = 'Free to Play'\n",
    "            elif norm_genre == 'Rpg':\n",
    "                genre_to_find = 'RPG'\n",
    "\n",
    "            # Create a mask to select the rows that contain the desired genre and handle NaN values\n",
    "            mask = df_f1['genres'].apply(lambda x: genre_to_find in x)\n",
    "\n",
    "            # We filtrate the DataFrame with the mask\n",
    "            df_f1_by_genre = df_f1[mask]\n",
    "\n",
    "            # We need to do a group by 'release_year' summing 'sum_playtime_forever'\n",
    "            grouped_df_f1_by_year = df_f1_by_genre.groupby('release_year')['sum_playtime_forever'].sum().reset_index()\n",
    "\n",
    "            # Now we only need the 'release_year' and 'sum_playtime_forever'\n",
    "            df1genre = grouped_df_f1_by_year[['release_year','sum_playtime_forever']]\n",
    "\n",
    "            # Now we sort by the 'sum_playtime_forever' to have the year with most played hours:\n",
    "            df1genre.sort_values(by='sum_playtime_forever', ascending=False, inplace=True)\n",
    "\n",
    "            # We reset the index\n",
    "            df1genre.reset_index(drop=True, inplace=True)\n",
    "\n",
    "            year_most_hours_played = df1genre.iloc[0,0]\n",
    "            max_sum_playtime_forever = df1genre.iloc[0,1]\n",
    "\n",
    "            # Now, we create the message in JSON format\n",
    "            F1message = {\n",
    "                f\"Release year with the most played hours for Genre {genre_to_find}\": int(year_most_hours_played)\n",
    "            }\n",
    "            # We convert the message into a JSON format\n",
    "            json_message = json.dumps(F1message, indent=4)\n",
    "\n",
    "            return print(json_message)\n",
    "            \n",
    "        else:\n",
    "            return print(\"The genre entered is not valid. Please try again.\")\n",
    "    else:\n",
    "        return print(\"Plese insert a genre as a string value (Text).\")"
   ]
  },
  {
   "cell_type": "code",
   "execution_count": 14,
   "metadata": {},
   "outputs": [
    {
     "name": "stdout",
     "output_type": "stream",
     "text": [
      "{\n",
      "    \"Release year with the most played hours for Genre Action\": 2012\n",
      "}\n"
     ]
    }
   ],
   "source": [
    "PlayTimeGenre('Action')"
   ]
  },
  {
   "cell_type": "code",
   "execution_count": 15,
   "metadata": {},
   "outputs": [
    {
     "name": "stdout",
     "output_type": "stream",
     "text": [
      "{\n",
      "    \"Release year with the most played hours for Genre Free to Play\": 2012\n",
      "}\n"
     ]
    }
   ],
   "source": [
    "PlayTimeGenre('Free TO PLay')"
   ]
  },
  {
   "cell_type": "code",
   "execution_count": 16,
   "metadata": {},
   "outputs": [
    {
     "name": "stdout",
     "output_type": "stream",
     "text": [
      "{\n",
      "    \"Release year with the most played hours for Genre Adventure\": 2013\n",
      "}\n"
     ]
    }
   ],
   "source": [
    "PlayTimeGenre('AdvEnture')"
   ]
  },
  {
   "cell_type": "code",
   "execution_count": 17,
   "metadata": {},
   "outputs": [
    {
     "name": "stdout",
     "output_type": "stream",
     "text": [
      "{\n",
      "    \"Release year with the most played hours for Genre Animation &amp; Modeling\": 2015\n",
      "}\n"
     ]
    }
   ],
   "source": [
    "PlayTimeGenre('AniMAtion &amp; ModELing')"
   ]
  },
  {
   "cell_type": "code",
   "execution_count": 18,
   "metadata": {},
   "outputs": [
    {
     "name": "stdout",
     "output_type": "stream",
     "text": [
      "The genre entered is not valid. Please try again.\n"
     ]
    }
   ],
   "source": [
    "PlayTimeGenre('Game')"
   ]
  },
  {
   "cell_type": "code",
   "execution_count": 19,
   "metadata": {},
   "outputs": [
    {
     "name": "stdout",
     "output_type": "stream",
     "text": [
      "Plese insert a genre as a string value (Text).\n"
     ]
    }
   ],
   "source": [
    "PlayTimeGenre(2000)"
   ]
  },
  {
   "cell_type": "markdown",
   "metadata": {},
   "source": [
    "### 2. **UseForGenre**(`genre`: str) Function:"
   ]
  },
  {
   "cell_type": "markdown",
   "metadata": {},
   "source": [
    "It should return the user who has accumulated the most played hours for the given `genre` and a list of the accumulated playtime by release year.\n",
    "\n",
    "Example of return: {\"User with the most played hours for Genre X\" : us213ndjss09sdf, \"Playtime\":[{Year: 2013, Hours: 203}, {Year: 2012, Hours: 100}, {Year: 2011, Hours: 23}]}"
   ]
  },
  {
   "cell_type": "markdown",
   "metadata": {},
   "source": [
    "For this function, we may need only the following columns of the df_F12 dataframe:\n",
    "\n",
    "- user_id.\n",
    "- genres.\n",
    "- release_year.\n",
    "- sum_playtime_forever."
   ]
  },
  {
   "cell_type": "code",
   "execution_count": 20,
   "metadata": {},
   "outputs": [
    {
     "data": {
      "text/html": [
       "<div>\n",
       "<style scoped>\n",
       "    .dataframe tbody tr th:only-of-type {\n",
       "        vertical-align: middle;\n",
       "    }\n",
       "\n",
       "    .dataframe tbody tr th {\n",
       "        vertical-align: top;\n",
       "    }\n",
       "\n",
       "    .dataframe thead th {\n",
       "        text-align: right;\n",
       "    }\n",
       "</style>\n",
       "<table border=\"1\" class=\"dataframe\">\n",
       "  <thead>\n",
       "    <tr style=\"text-align: right;\">\n",
       "      <th></th>\n",
       "      <th>user_id</th>\n",
       "      <th>genres</th>\n",
       "      <th>release_year</th>\n",
       "      <th>sum_playtime_forever</th>\n",
       "    </tr>\n",
       "  </thead>\n",
       "  <tbody>\n",
       "    <tr>\n",
       "      <th>0</th>\n",
       "      <td>--000--</td>\n",
       "      <td>[Indie, Simulation]</td>\n",
       "      <td>2006</td>\n",
       "      <td>1850.0</td>\n",
       "    </tr>\n",
       "    <tr>\n",
       "      <th>1</th>\n",
       "      <td>--000--</td>\n",
       "      <td>[Action]</td>\n",
       "      <td>2009</td>\n",
       "      <td>5329.0</td>\n",
       "    </tr>\n",
       "    <tr>\n",
       "      <th>2</th>\n",
       "      <td>--000--</td>\n",
       "      <td>[Action, Free to Play, Indie]</td>\n",
       "      <td>2010</td>\n",
       "      <td>66.0</td>\n",
       "    </tr>\n",
       "    <tr>\n",
       "      <th>3</th>\n",
       "      <td>--000--</td>\n",
       "      <td>[Action, Adventure, Indie, RPG, Action, Free t...</td>\n",
       "      <td>2011</td>\n",
       "      <td>15564.0</td>\n",
       "    </tr>\n",
       "    <tr>\n",
       "      <th>4</th>\n",
       "      <td>--000--</td>\n",
       "      <td>[Action, Adventure, Casual, Indie, RPG, Action...</td>\n",
       "      <td>2012</td>\n",
       "      <td>118326.0</td>\n",
       "    </tr>\n",
       "    <tr>\n",
       "      <th>...</th>\n",
       "      <td>...</td>\n",
       "      <td>...</td>\n",
       "      <td>...</td>\n",
       "      <td>...</td>\n",
       "    </tr>\n",
       "    <tr>\n",
       "      <th>660198</th>\n",
       "      <td>zzzmidmiss</td>\n",
       "      <td>[Action, Free to Play, Indie, Adventure, Strat...</td>\n",
       "      <td>2010</td>\n",
       "      <td>1237.0</td>\n",
       "    </tr>\n",
       "    <tr>\n",
       "      <th>660199</th>\n",
       "      <td>zzzmidmiss</td>\n",
       "      <td>[Action, Free to Play, Massively Multiplayer, ...</td>\n",
       "      <td>2011</td>\n",
       "      <td>2514.0</td>\n",
       "    </tr>\n",
       "    <tr>\n",
       "      <th>660200</th>\n",
       "      <td>zzzmidmiss</td>\n",
       "      <td>[Action, Adventure, Action, Free to Play, Indi...</td>\n",
       "      <td>2012</td>\n",
       "      <td>14467.0</td>\n",
       "    </tr>\n",
       "    <tr>\n",
       "      <th>660201</th>\n",
       "      <td>zzzmidmiss</td>\n",
       "      <td>[Action, Adventure, Indie, RPG, Action, Free t...</td>\n",
       "      <td>2013</td>\n",
       "      <td>423.0</td>\n",
       "    </tr>\n",
       "    <tr>\n",
       "      <th>660202</th>\n",
       "      <td>zzzmidmiss</td>\n",
       "      <td>[Action, Adventure, Free to Play, Simulation, ...</td>\n",
       "      <td>2014</td>\n",
       "      <td>80.0</td>\n",
       "    </tr>\n",
       "  </tbody>\n",
       "</table>\n",
       "<p>660203 rows × 4 columns</p>\n",
       "</div>"
      ],
      "text/plain": [
       "           user_id                                             genres  \\\n",
       "0          --000--                                [Indie, Simulation]   \n",
       "1          --000--                                           [Action]   \n",
       "2          --000--                      [Action, Free to Play, Indie]   \n",
       "3          --000--  [Action, Adventure, Indie, RPG, Action, Free t...   \n",
       "4          --000--  [Action, Adventure, Casual, Indie, RPG, Action...   \n",
       "...            ...                                                ...   \n",
       "660198  zzzmidmiss  [Action, Free to Play, Indie, Adventure, Strat...   \n",
       "660199  zzzmidmiss  [Action, Free to Play, Massively Multiplayer, ...   \n",
       "660200  zzzmidmiss  [Action, Adventure, Action, Free to Play, Indi...   \n",
       "660201  zzzmidmiss  [Action, Adventure, Indie, RPG, Action, Free t...   \n",
       "660202  zzzmidmiss  [Action, Adventure, Free to Play, Simulation, ...   \n",
       "\n",
       "        release_year  sum_playtime_forever  \n",
       "0               2006                1850.0  \n",
       "1               2009                5329.0  \n",
       "2               2010                  66.0  \n",
       "3               2011               15564.0  \n",
       "4               2012              118326.0  \n",
       "...              ...                   ...  \n",
       "660198          2010                1237.0  \n",
       "660199          2011                2514.0  \n",
       "660200          2012               14467.0  \n",
       "660201          2013                 423.0  \n",
       "660202          2014                  80.0  \n",
       "\n",
       "[660203 rows x 4 columns]"
      ]
     },
     "execution_count": 20,
     "metadata": {},
     "output_type": "execute_result"
    }
   ],
   "source": [
    "df_f2 = df_F12[['user_id','genres','release_year','sum_playtime_forever']]\n",
    "df_f2"
   ]
  },
  {
   "cell_type": "code",
   "execution_count": 21,
   "metadata": {},
   "outputs": [
    {
     "name": "stdout",
     "output_type": "stream",
     "text": [
      "<class 'pandas.core.frame.DataFrame'>\n",
      "RangeIndex: 660203 entries, 0 to 660202\n",
      "Data columns (total 4 columns):\n",
      " #   Column                Non-Null Count   Dtype  \n",
      "---  ------                --------------   -----  \n",
      " 0   user_id               660203 non-null  object \n",
      " 1   genres                660203 non-null  object \n",
      " 2   release_year          660203 non-null  int64  \n",
      " 3   sum_playtime_forever  660203 non-null  float64\n",
      "dtypes: float64(1), int64(1), object(2)\n",
      "memory usage: 20.1+ MB\n"
     ]
    }
   ],
   "source": [
    "df_f2.info()"
   ]
  },
  {
   "cell_type": "markdown",
   "metadata": {},
   "source": [
    "For this function we can use as a base the function we developed before, but let's add the user_id into the equation.\n",
    "\n",
    "This function has the following steps:\n",
    "\n",
    "1. Evaluates that the genre inserted by the user is a string.\n",
    "2. Nomalize the genre entered by the user capitalizing the first word of each word.\n",
    "3. Check if the genre normalized is in the list of normalized genres.\n",
    "4. There are two genres that need special attention: \"Free to Play\",\"RPG\". They are not normalized in the original dataframe of genres. We need to make sure that they are written the same way they are in the original dataframe.\n",
    "5. We select all the rows that contain that genre in the dataframe.\n",
    "6. In the filtered dataframe, we group by 'release_year' and 'user_id' summing 'sum_playtime_forever' (Dataframe 1)\n",
    "7. In parallel we are going to create another dataframe (Dataframe 2) grouping by 'user_id' summing 'sum_playtime_forever' in order to know who is the user with the highest 'sum_playtime_forever'.\n",
    "8. Now, having the 'user_id' with the highest 'sum_playtime_forever', finally we select the rows of the Dataframe 1 that contains that 'user_id' in order to have all the years with the 'sum_playtime_forever' for that 'user_id' and the genre inserted by the user.\n",
    "9. Organize the results as a JSON format.\n",
    "\n",
    "**NOTE:** This function has some quality features that send messages to the user when the genre is written with the correct letters but not respecting the standardized way of writting (First letter in capital and the rest without capitalizing). Also, send a message when the user inserts a genre that does not exist or write something different of string.  "
   ]
  },
  {
   "cell_type": "code",
   "execution_count": 22,
   "metadata": {},
   "outputs": [],
   "source": [
    "def UseForGenre(genre):\n",
    "    # This function return the user who has accumulated the most played hours for the given `genre` and a list of \n",
    "    # the accumulated playtime by release year.\n",
    "    #Example of return: {\"User with the most played hours for Genre X\" : us213ndjss09sdf, \n",
    "    #                     \"Playtime\":[{Year: 2013, Hours: 203}, {Year: 2012, Hours: 100}, {Year: 2011, Hours: 23}]}\n",
    "\n",
    "    #We need to mke sure that the genre inserted by the user is a string\n",
    "    if type(genre) == str:\n",
    "    \n",
    "        # The first thing that we need to do is to validate that the genre entered by the user is in the list of genres.\n",
    "        # We need to normalize the genre entered by the user.\n",
    "        norm_genre = capitalize_first_words_in_sentence(genre)\n",
    "\n",
    "        #Now, let's look for that genre in the normalized list of genres:\n",
    "        if norm_genre in normalized_genres:\n",
    "\n",
    "            # Let's suppose that we are going to look for the genre 'norm_genre' as an input from the user.\n",
    "            genre_to_find = norm_genre\n",
    "\n",
    "            # There are two genres that need special attention: \"Free to Play\",\"RPG\". Because they are not normalized in the\n",
    "            # original dataframe where we are going to search later. So let's transform them:\n",
    "            if norm_genre == 'Free To Play':\n",
    "                genre_to_find = 'Free to Play'\n",
    "            elif norm_genre == 'Rpg':\n",
    "                genre_to_find = 'RPG'\n",
    "\n",
    "            # We create a mask to select the rows that contain the desired genre and we take care of the NaN values\n",
    "            mask = df_f2['genres'].apply(lambda x: genre_to_find in x)\n",
    "\n",
    "            # We filtrate the DataFrame with the mask\n",
    "            df_f2_by_genre = df_f2[mask]\n",
    "\n",
    "            # We need to do a group by 'user_id' and 'release_year' summing 'sum_playtime_forever'\n",
    "            grouped_df_f2_by_user_year = df_f2_by_genre.groupby(['user_id','release_year'])['sum_playtime_forever'].sum().reset_index()\n",
    "\n",
    "            # Also we are going to group by 'user_id' summing 'sum_playtime_forever' in order to find the user that played the most.\n",
    "            grouped_df_f2_by_user = df_f2_by_genre.groupby(['user_id'])['sum_playtime_forever'].sum().reset_index()\n",
    "\n",
    "            # Now we sort by the 'sum_playtime_forever' to have the year with most played hours:\n",
    "            grouped_df_f2_by_user.sort_values(by='sum_playtime_forever', ascending=False, inplace=True)\n",
    "\n",
    "            # We reset the index\n",
    "            grouped_df_f2_by_user.reset_index(drop=True, inplace=True)\n",
    "\n",
    "            #User with more hours played\n",
    "            user_most_hours_played = grouped_df_f2_by_user.iloc[0,0]\n",
    "\n",
    "            # Now we are going to make a mask in the dataframe 'grouped_df_f2_by_user_year' just to have the data of that user\n",
    "            # that had the maximum hours played\n",
    "            mask = grouped_df_f2_by_user_year['user_id'] == user_most_hours_played\n",
    "            resultF2 = grouped_df_f2_by_user_year[mask]\n",
    "\n",
    "            #Now, we create a list of dictionaries for the year and sum_playtime_forever\n",
    "            playtime_list = resultF2.rename(columns={'release_year': 'Release Year', 'sum_playtime_forever': 'Hours'})[['Release Year', 'Hours']].to_dict(orient='records')\n",
    "\n",
    "            # Now, we create the message in JSON format\n",
    "            F2message = {\n",
    "                f\"User with the most played hours for Genre {genre_to_find}\": user_most_hours_played,\n",
    "                \"Playtime\": playtime_list\n",
    "            }\n",
    "            # We convert the message into a JSON format\n",
    "            json_message = json.dumps(F2message, indent=4)\n",
    "\n",
    "            return print(json_message)\n",
    "        else:\n",
    "            return print(\"The genre entered is not valid. Please try again.\")\n",
    "    else:\n",
    "        return print(\"Plese insert a genre as a string value (Text).\")"
   ]
  },
  {
   "cell_type": "code",
   "execution_count": 23,
   "metadata": {},
   "outputs": [
    {
     "name": "stdout",
     "output_type": "stream",
     "text": [
      "{\n",
      "    \"User with the most played hours for Genre Action\": \"REBAS_AS_F-T\",\n",
      "    \"Playtime\": [\n",
      "        {\n",
      "            \"Release Year\": 1998,\n",
      "            \"Hours\": 2.0\n",
      "        },\n",
      "        {\n",
      "            \"Release Year\": 1999,\n",
      "            \"Hours\": 227.0\n",
      "        },\n",
      "        {\n",
      "            \"Release Year\": 2001,\n",
      "            \"Hours\": 33.0\n",
      "        },\n",
      "        {\n",
      "            \"Release Year\": 2002,\n",
      "            \"Hours\": 1.0\n",
      "        },\n",
      "        {\n",
      "            \"Release Year\": 2003,\n",
      "            \"Hours\": 5589.0\n",
      "        },\n",
      "        {\n",
      "            \"Release Year\": 2004,\n",
      "            \"Hours\": 9102.0\n",
      "        },\n",
      "        {\n",
      "            \"Release Year\": 2005,\n",
      "            \"Hours\": 5519.0\n",
      "        },\n",
      "        {\n",
      "            \"Release Year\": 2006,\n",
      "            \"Hours\": 3556.0\n",
      "        },\n",
      "        {\n",
      "            \"Release Year\": 2007,\n",
      "            \"Hours\": 11585.0\n",
      "        },\n",
      "        {\n",
      "            \"Release Year\": 2008,\n",
      "            \"Hours\": 9663.0\n",
      "        },\n",
      "        {\n",
      "            \"Release Year\": 2009,\n",
      "            \"Hours\": 118276.0\n",
      "        },\n",
      "        {\n",
      "            \"Release Year\": 2010,\n",
      "            \"Hours\": 134037.0\n",
      "        },\n",
      "        {\n",
      "            \"Release Year\": 2011,\n",
      "            \"Hours\": 452856.0\n",
      "        },\n",
      "        {\n",
      "            \"Release Year\": 2012,\n",
      "            \"Hours\": 560808.0\n",
      "        },\n",
      "        {\n",
      "            \"Release Year\": 2013,\n",
      "            \"Hours\": 955010.0\n",
      "        },\n",
      "        {\n",
      "            \"Release Year\": 2014,\n",
      "            \"Hours\": 1129480.0\n",
      "        },\n",
      "        {\n",
      "            \"Release Year\": 2015,\n",
      "            \"Hours\": 2772390.0\n",
      "        },\n",
      "        {\n",
      "            \"Release Year\": 2016,\n",
      "            \"Hours\": 3282602.0\n",
      "        },\n",
      "        {\n",
      "            \"Release Year\": 2017,\n",
      "            \"Hours\": 121699.0\n",
      "        }\n",
      "    ]\n",
      "}\n"
     ]
    }
   ],
   "source": [
    "UseForGenre('Action')"
   ]
  },
  {
   "cell_type": "code",
   "execution_count": 24,
   "metadata": {},
   "outputs": [
    {
     "name": "stdout",
     "output_type": "stream",
     "text": [
      "{\n",
      "    \"User with the most played hours for Genre Massively Multiplayer\": \"REBAS_AS_F-T\",\n",
      "    \"Playtime\": [\n",
      "        {\n",
      "            \"Release Year\": 2010,\n",
      "            \"Hours\": 134037.0\n",
      "        },\n",
      "        {\n",
      "            \"Release Year\": 2011,\n",
      "            \"Hours\": 452856.0\n",
      "        },\n",
      "        {\n",
      "            \"Release Year\": 2012,\n",
      "            \"Hours\": 560808.0\n",
      "        },\n",
      "        {\n",
      "            \"Release Year\": 2013,\n",
      "            \"Hours\": 955010.0\n",
      "        },\n",
      "        {\n",
      "            \"Release Year\": 2014,\n",
      "            \"Hours\": 1129480.0\n",
      "        },\n",
      "        {\n",
      "            \"Release Year\": 2015,\n",
      "            \"Hours\": 2772390.0\n",
      "        },\n",
      "        {\n",
      "            \"Release Year\": 2016,\n",
      "            \"Hours\": 3282602.0\n",
      "        },\n",
      "        {\n",
      "            \"Release Year\": 2017,\n",
      "            \"Hours\": 121699.0\n",
      "        }\n",
      "    ]\n",
      "}\n"
     ]
    }
   ],
   "source": [
    "UseForGenre('MAssIvely MultipLayer')"
   ]
  },
  {
   "cell_type": "code",
   "execution_count": 25,
   "metadata": {},
   "outputs": [
    {
     "name": "stdout",
     "output_type": "stream",
     "text": [
      "{\n",
      "    \"User with the most played hours for Genre Design &amp; Illustration\": \"thugnificent\",\n",
      "    \"Playtime\": [\n",
      "        {\n",
      "            \"Release Year\": 2007,\n",
      "            \"Hours\": 6987.0\n",
      "        },\n",
      "        {\n",
      "            \"Release Year\": 2012,\n",
      "            \"Hours\": 109437.0\n",
      "        },\n",
      "        {\n",
      "            \"Release Year\": 2013,\n",
      "            \"Hours\": 162179.0\n",
      "        },\n",
      "        {\n",
      "            \"Release Year\": 2014,\n",
      "            \"Hours\": 290685.0\n",
      "        },\n",
      "        {\n",
      "            \"Release Year\": 2015,\n",
      "            \"Hours\": 632128.0\n",
      "        },\n",
      "        {\n",
      "            \"Release Year\": 2016,\n",
      "            \"Hours\": 480223.0\n",
      "        }\n",
      "    ]\n",
      "}\n"
     ]
    }
   ],
   "source": [
    "UseForGenre('DesiGN &amp; IllusTRation')"
   ]
  },
  {
   "cell_type": "code",
   "execution_count": 26,
   "metadata": {},
   "outputs": [
    {
     "name": "stdout",
     "output_type": "stream",
     "text": [
      "The genre entered is not valid. Please try again.\n"
     ]
    }
   ],
   "source": [
    "UseForGenre('Game')"
   ]
  },
  {
   "cell_type": "code",
   "execution_count": 27,
   "metadata": {},
   "outputs": [
    {
     "name": "stdout",
     "output_type": "stream",
     "text": [
      "Plese insert a genre as a string value (Text).\n"
     ]
    }
   ],
   "source": [
    "UseForGenre(2000)"
   ]
  },
  {
   "cell_type": "markdown",
   "metadata": {},
   "source": [
    "### 3. **UsersRecommend**(`year`: int) Function:"
   ]
  },
  {
   "cell_type": "markdown",
   "metadata": {},
   "source": [
    "It returns the top 3 games MOST recommended by users for the given `year` (reviews.recommend = True and positive/neutral comments).\n",
    "\n",
    "Example of return: [{\"Rank 1\" : X}, {\"Rank 2\" : Y},{\"Rank 3\" : Z}]"
   ]
  },
  {
   "cell_type": "markdown",
   "metadata": {},
   "source": [
    "For this function, we may need only the following columns of the df_F345 dataframe:\n",
    "\n",
    "- item_id.\n",
    "- title.\n",
    "- recommend.\n",
    "- sentiment_analysis.\n",
    "- review_year."
   ]
  },
  {
   "cell_type": "code",
   "execution_count": 28,
   "metadata": {},
   "outputs": [
    {
     "data": {
      "text/html": [
       "<div>\n",
       "<style scoped>\n",
       "    .dataframe tbody tr th:only-of-type {\n",
       "        vertical-align: middle;\n",
       "    }\n",
       "\n",
       "    .dataframe tbody tr th {\n",
       "        vertical-align: top;\n",
       "    }\n",
       "\n",
       "    .dataframe thead th {\n",
       "        text-align: right;\n",
       "    }\n",
       "</style>\n",
       "<table border=\"1\" class=\"dataframe\">\n",
       "  <thead>\n",
       "    <tr style=\"text-align: right;\">\n",
       "      <th></th>\n",
       "      <th>item_id</th>\n",
       "      <th>title</th>\n",
       "      <th>recommend</th>\n",
       "      <th>sentiment_analysis</th>\n",
       "      <th>review_year</th>\n",
       "    </tr>\n",
       "  </thead>\n",
       "  <tbody>\n",
       "    <tr>\n",
       "      <th>0</th>\n",
       "      <td>10.0</td>\n",
       "      <td>Counter-Strike</td>\n",
       "      <td>True</td>\n",
       "      <td>2</td>\n",
       "      <td>2015</td>\n",
       "    </tr>\n",
       "    <tr>\n",
       "      <th>1</th>\n",
       "      <td>10.0</td>\n",
       "      <td>Counter-Strike</td>\n",
       "      <td>True</td>\n",
       "      <td>1</td>\n",
       "      <td>2015</td>\n",
       "    </tr>\n",
       "    <tr>\n",
       "      <th>2</th>\n",
       "      <td>10.0</td>\n",
       "      <td>Counter-Strike</td>\n",
       "      <td>True</td>\n",
       "      <td>2</td>\n",
       "      <td>2011</td>\n",
       "    </tr>\n",
       "    <tr>\n",
       "      <th>3</th>\n",
       "      <td>10.0</td>\n",
       "      <td>Counter-Strike</td>\n",
       "      <td>True</td>\n",
       "      <td>2</td>\n",
       "      <td>2014</td>\n",
       "    </tr>\n",
       "    <tr>\n",
       "      <th>4</th>\n",
       "      <td>10.0</td>\n",
       "      <td>Counter-Strike</td>\n",
       "      <td>True</td>\n",
       "      <td>2</td>\n",
       "      <td>2014</td>\n",
       "    </tr>\n",
       "    <tr>\n",
       "      <th>...</th>\n",
       "      <td>...</td>\n",
       "      <td>...</td>\n",
       "      <td>...</td>\n",
       "      <td>...</td>\n",
       "      <td>...</td>\n",
       "    </tr>\n",
       "    <tr>\n",
       "      <th>39144</th>\n",
       "      <td>521430.0</td>\n",
       "      <td>Super Switch</td>\n",
       "      <td>True</td>\n",
       "      <td>2</td>\n",
       "      <td>2016</td>\n",
       "    </tr>\n",
       "    <tr>\n",
       "      <th>39145</th>\n",
       "      <td>521570.0</td>\n",
       "      <td>You Have 10 Seconds 2</td>\n",
       "      <td>True</td>\n",
       "      <td>0</td>\n",
       "      <td>2016</td>\n",
       "    </tr>\n",
       "    <tr>\n",
       "      <th>39146</th>\n",
       "      <td>521570.0</td>\n",
       "      <td>You Have 10 Seconds 2</td>\n",
       "      <td>True</td>\n",
       "      <td>0</td>\n",
       "      <td>2016</td>\n",
       "    </tr>\n",
       "    <tr>\n",
       "      <th>39147</th>\n",
       "      <td>521990.0</td>\n",
       "      <td>Galactic Storm</td>\n",
       "      <td>True</td>\n",
       "      <td>2</td>\n",
       "      <td>2016</td>\n",
       "    </tr>\n",
       "    <tr>\n",
       "      <th>39148</th>\n",
       "      <td>527340.0</td>\n",
       "      <td>What The Box?</td>\n",
       "      <td>True</td>\n",
       "      <td>0</td>\n",
       "      <td>2016</td>\n",
       "    </tr>\n",
       "  </tbody>\n",
       "</table>\n",
       "<p>39149 rows × 5 columns</p>\n",
       "</div>"
      ],
      "text/plain": [
       "        item_id                  title  recommend  sentiment_analysis  \\\n",
       "0          10.0         Counter-Strike       True                   2   \n",
       "1          10.0         Counter-Strike       True                   1   \n",
       "2          10.0         Counter-Strike       True                   2   \n",
       "3          10.0         Counter-Strike       True                   2   \n",
       "4          10.0         Counter-Strike       True                   2   \n",
       "...         ...                    ...        ...                 ...   \n",
       "39144  521430.0           Super Switch       True                   2   \n",
       "39145  521570.0  You Have 10 Seconds 2       True                   0   \n",
       "39146  521570.0  You Have 10 Seconds 2       True                   0   \n",
       "39147  521990.0         Galactic Storm       True                   2   \n",
       "39148  527340.0          What The Box?       True                   0   \n",
       "\n",
       "       review_year  \n",
       "0             2015  \n",
       "1             2015  \n",
       "2             2011  \n",
       "3             2014  \n",
       "4             2014  \n",
       "...            ...  \n",
       "39144         2016  \n",
       "39145         2016  \n",
       "39146         2016  \n",
       "39147         2016  \n",
       "39148         2016  \n",
       "\n",
       "[39149 rows x 5 columns]"
      ]
     },
     "execution_count": 28,
     "metadata": {},
     "output_type": "execute_result"
    }
   ],
   "source": [
    "df_f3 = df_F345[['item_id','title','recommend','sentiment_analysis','review_year']]\n",
    "df_f3"
   ]
  },
  {
   "cell_type": "code",
   "execution_count": 29,
   "metadata": {},
   "outputs": [
    {
     "name": "stdout",
     "output_type": "stream",
     "text": [
      "<class 'pandas.core.frame.DataFrame'>\n",
      "RangeIndex: 39149 entries, 0 to 39148\n",
      "Data columns (total 5 columns):\n",
      " #   Column              Non-Null Count  Dtype  \n",
      "---  ------              --------------  -----  \n",
      " 0   item_id             39149 non-null  float64\n",
      " 1   title               39149 non-null  string \n",
      " 2   recommend           39149 non-null  bool   \n",
      " 3   sentiment_analysis  39149 non-null  int64  \n",
      " 4   review_year         39149 non-null  int64  \n",
      "dtypes: bool(1), float64(1), int64(2), string(1)\n",
      "memory usage: 1.2 MB\n"
     ]
    }
   ],
   "source": [
    "df_f3.info()"
   ]
  },
  {
   "cell_type": "markdown",
   "metadata": {},
   "source": [
    "This function returns the top 3 games MOST recommended by users for the given `year` (reviews.recommend = True and positive/neutral comments).\n",
    "\n",
    "Example of return: [{\"Rank 1\" : item1}, {\"Rank 2\" : item2},{\"Rank 3\" : item3}]"
   ]
  },
  {
   "cell_type": "markdown",
   "metadata": {},
   "source": [
    "To select the most recommended items we are going to use the following criteria:\n",
    "\n",
    "1. Eliminate all the rows that have 'recommend = False' and have sentiment_analysis = 0\n",
    "2. Select only the rows that have the review_year = year entered by the user. \n",
    "3. Group by item_id summing all the sentiment_analysis and sort the dataframe by sum of sentiment_analysis (Descending).\n",
    "4. Select the top 3 items with the highest sum of sentiment analysis.\n",
    "5. Organize the results as a JSON format.\n",
    "\n",
    "**NOTE:** This function has some quality features that send messages to the user when the the user inserts a year that does not exist or write something different of integer.\n"
   ]
  },
  {
   "cell_type": "markdown",
   "metadata": {},
   "source": [
    "We can do the step one, outside of the function:"
   ]
  },
  {
   "cell_type": "code",
   "execution_count": 30,
   "metadata": {},
   "outputs": [
    {
     "data": {
      "text/html": [
       "<div>\n",
       "<style scoped>\n",
       "    .dataframe tbody tr th:only-of-type {\n",
       "        vertical-align: middle;\n",
       "    }\n",
       "\n",
       "    .dataframe tbody tr th {\n",
       "        vertical-align: top;\n",
       "    }\n",
       "\n",
       "    .dataframe thead th {\n",
       "        text-align: right;\n",
       "    }\n",
       "</style>\n",
       "<table border=\"1\" class=\"dataframe\">\n",
       "  <thead>\n",
       "    <tr style=\"text-align: right;\">\n",
       "      <th></th>\n",
       "      <th>item_id</th>\n",
       "      <th>title</th>\n",
       "      <th>recommend</th>\n",
       "      <th>sentiment_analysis</th>\n",
       "      <th>review_year</th>\n",
       "    </tr>\n",
       "  </thead>\n",
       "  <tbody>\n",
       "    <tr>\n",
       "      <th>0</th>\n",
       "      <td>10.0</td>\n",
       "      <td>Counter-Strike</td>\n",
       "      <td>True</td>\n",
       "      <td>2</td>\n",
       "      <td>2015</td>\n",
       "    </tr>\n",
       "    <tr>\n",
       "      <th>1</th>\n",
       "      <td>10.0</td>\n",
       "      <td>Counter-Strike</td>\n",
       "      <td>True</td>\n",
       "      <td>1</td>\n",
       "      <td>2015</td>\n",
       "    </tr>\n",
       "    <tr>\n",
       "      <th>2</th>\n",
       "      <td>10.0</td>\n",
       "      <td>Counter-Strike</td>\n",
       "      <td>True</td>\n",
       "      <td>2</td>\n",
       "      <td>2011</td>\n",
       "    </tr>\n",
       "    <tr>\n",
       "      <th>3</th>\n",
       "      <td>10.0</td>\n",
       "      <td>Counter-Strike</td>\n",
       "      <td>True</td>\n",
       "      <td>2</td>\n",
       "      <td>2014</td>\n",
       "    </tr>\n",
       "    <tr>\n",
       "      <th>4</th>\n",
       "      <td>10.0</td>\n",
       "      <td>Counter-Strike</td>\n",
       "      <td>True</td>\n",
       "      <td>2</td>\n",
       "      <td>2014</td>\n",
       "    </tr>\n",
       "    <tr>\n",
       "      <th>...</th>\n",
       "      <td>...</td>\n",
       "      <td>...</td>\n",
       "      <td>...</td>\n",
       "      <td>...</td>\n",
       "      <td>...</td>\n",
       "    </tr>\n",
       "    <tr>\n",
       "      <th>31000</th>\n",
       "      <td>514520.0</td>\n",
       "      <td>Sparky's Hunt</td>\n",
       "      <td>True</td>\n",
       "      <td>2</td>\n",
       "      <td>2016</td>\n",
       "    </tr>\n",
       "    <tr>\n",
       "      <th>31001</th>\n",
       "      <td>516040.0</td>\n",
       "      <td>Everything is Peachy</td>\n",
       "      <td>True</td>\n",
       "      <td>2</td>\n",
       "      <td>2016</td>\n",
       "    </tr>\n",
       "    <tr>\n",
       "      <th>31002</th>\n",
       "      <td>521340.0</td>\n",
       "      <td>True or False</td>\n",
       "      <td>True</td>\n",
       "      <td>2</td>\n",
       "      <td>2016</td>\n",
       "    </tr>\n",
       "    <tr>\n",
       "      <th>31003</th>\n",
       "      <td>521430.0</td>\n",
       "      <td>Super Switch</td>\n",
       "      <td>True</td>\n",
       "      <td>2</td>\n",
       "      <td>2016</td>\n",
       "    </tr>\n",
       "    <tr>\n",
       "      <th>31004</th>\n",
       "      <td>521990.0</td>\n",
       "      <td>Galactic Storm</td>\n",
       "      <td>True</td>\n",
       "      <td>2</td>\n",
       "      <td>2016</td>\n",
       "    </tr>\n",
       "  </tbody>\n",
       "</table>\n",
       "<p>31005 rows × 5 columns</p>\n",
       "</div>"
      ],
      "text/plain": [
       "        item_id                 title  recommend  sentiment_analysis  \\\n",
       "0          10.0        Counter-Strike       True                   2   \n",
       "1          10.0        Counter-Strike       True                   1   \n",
       "2          10.0        Counter-Strike       True                   2   \n",
       "3          10.0        Counter-Strike       True                   2   \n",
       "4          10.0        Counter-Strike       True                   2   \n",
       "...         ...                   ...        ...                 ...   \n",
       "31000  514520.0         Sparky's Hunt       True                   2   \n",
       "31001  516040.0  Everything is Peachy       True                   2   \n",
       "31002  521340.0         True or False       True                   2   \n",
       "31003  521430.0          Super Switch       True                   2   \n",
       "31004  521990.0        Galactic Storm       True                   2   \n",
       "\n",
       "       review_year  \n",
       "0             2015  \n",
       "1             2015  \n",
       "2             2011  \n",
       "3             2014  \n",
       "4             2014  \n",
       "...            ...  \n",
       "31000         2016  \n",
       "31001         2016  \n",
       "31002         2016  \n",
       "31003         2016  \n",
       "31004         2016  \n",
       "\n",
       "[31005 rows x 5 columns]"
      ]
     },
     "execution_count": 30,
     "metadata": {},
     "output_type": "execute_result"
    }
   ],
   "source": [
    "mask = (df_f3['recommend'] == True) & (df_f3['sentiment_analysis'] != 0)\n",
    "df_f3f = df_f3[mask]\n",
    "df_f3 = df_f3f.reset_index(drop=True)\n",
    "df_f3"
   ]
  },
  {
   "cell_type": "markdown",
   "metadata": {},
   "source": [
    "Now, let's go to the function:"
   ]
  },
  {
   "cell_type": "code",
   "execution_count": 31,
   "metadata": {},
   "outputs": [],
   "source": [
    "def UsersRecommend(year):\n",
    "    # This function returns the top 3 games MOST recommended by users for the given `year` (reviews.recommend = True and positive/neutral comments).\n",
    "    # Example of return: [{\"Rank 1\" : item1}, {\"Rank 2\" : item2},{\"Rank 3\" : item3}]\n",
    "\n",
    "    # First, we need to make sure that the year inserted by the user is a number\n",
    "    if type(year) == int: \n",
    "        # Now, let's select only the data for the year given by the user.\n",
    "        mask = df_f3['review_year'] == year\n",
    "        df_f3_review_year = df_f3[mask].reset_index(drop=True)\n",
    "\n",
    "        # Group by 'title' summing all the sentiment_analysis and sort the dataframe by sum of sentiment_analysis.\n",
    "        grouped_df_f3_review_year = df_f3_review_year.groupby(['title'])['sentiment_analysis'].sum().reset_index()\n",
    "\n",
    "        # Now we sort by the 'sentiment_analysis' to have the items with the highest sentiment_analysis:\n",
    "        grouped_df_f3_review_year.sort_values(by='sentiment_analysis', ascending=False, inplace=True)\n",
    "\n",
    "        # We need to verify if the Dataframe is not empty, which means that there are no reviews for that year:\n",
    "        if not grouped_df_f3_review_year.empty:\n",
    "            #Rank 1\n",
    "            item_Rank_1 = grouped_df_f3_review_year.iloc[0,0]\n",
    "            #Rank 2\n",
    "            item_Rank_2 = grouped_df_f3_review_year.iloc[1,0]\n",
    "            #Rank 3\n",
    "            item_Rank_3 = grouped_df_f3_review_year.iloc[2,0]\n",
    "\n",
    "            #Now, we create the dataframe that we are going to convert into JSON Format\n",
    "            dataF3 = {\n",
    "                'Rank': ['Position 1', 'Position 2', 'Position 3'],\n",
    "                'title': [item_Rank_1, item_Rank_2, item_Rank_3]\n",
    "            }\n",
    "\n",
    "            #Now, we create a list of dictionaries for the Rank and item_id\n",
    "            json_data = [{\"Rank \" + str(index + 1): item} for index, item in enumerate(dataF3['title'])]\n",
    "\n",
    "            # Now, we create the message in JSON format\n",
    "            json_message = json.dumps(json_data, indent=None, ensure_ascii=False)\n",
    "\n",
    "            return print(json_message)\n",
    "        else:\n",
    "            return print(\"The year inserted has not reviews to calculate the ranking of the most recommended items. Please try with another year.\")\n",
    "    else:\n",
    "        return print(\"Please insert a valid year as an integer number.\")"
   ]
  },
  {
   "cell_type": "code",
   "execution_count": 32,
   "metadata": {},
   "outputs": [
    {
     "name": "stdout",
     "output_type": "stream",
     "text": [
      "The year inserted has not reviews to calculate the ranking of the most recommended items. Please try with another year.\n"
     ]
    }
   ],
   "source": [
    "UsersRecommend(2000)"
   ]
  },
  {
   "cell_type": "code",
   "execution_count": 33,
   "metadata": {},
   "outputs": [
    {
     "name": "stdout",
     "output_type": "stream",
     "text": [
      "[{\"Rank 1\": \"Garry's Mod\"}, {\"Rank 2\": \"Terraria\"}, {\"Rank 3\": \"Left 4 Dead 2\"}]\n"
     ]
    }
   ],
   "source": [
    "UsersRecommend(2012)"
   ]
  },
  {
   "cell_type": "code",
   "execution_count": 34,
   "metadata": {},
   "outputs": [
    {
     "name": "stdout",
     "output_type": "stream",
     "text": [
      "[{\"Rank 1\": \"Counter-Strike: Global Offensive\"}, {\"Rank 2\": \"Garry's Mod\"}, {\"Rank 3\": \"Unturned\"}]\n"
     ]
    }
   ],
   "source": [
    "UsersRecommend(2016)"
   ]
  },
  {
   "cell_type": "code",
   "execution_count": 35,
   "metadata": {},
   "outputs": [
    {
     "name": "stdout",
     "output_type": "stream",
     "text": [
      "Please insert a valid year as an integer number.\n"
     ]
    }
   ],
   "source": [
    "UsersRecommend(2016.3)"
   ]
  },
  {
   "cell_type": "code",
   "execution_count": 36,
   "metadata": {},
   "outputs": [
    {
     "name": "stdout",
     "output_type": "stream",
     "text": [
      "Please insert a valid year as an integer number.\n"
     ]
    }
   ],
   "source": [
    "UsersRecommend(\"Year\")"
   ]
  },
  {
   "cell_type": "markdown",
   "metadata": {},
   "source": [
    "### 4. **UsersNotRecommend**(`year`: int) Function:"
   ]
  },
  {
   "cell_type": "markdown",
   "metadata": {},
   "source": [
    "It returns the top 3 games LEAST recommended by users for the given `year` (reviews.recommend = False and negative comments).\n",
    "\n",
    "Example of return: [{\"Rank 1\" : X}, {\"Rank 2\" : Y},{\"Rank 3\" : Z}]"
   ]
  },
  {
   "cell_type": "markdown",
   "metadata": {},
   "source": [
    "For this function, we may need only the following columns of the df_F345 dataframe:\n",
    "\n",
    "- item_id.\n",
    "- recommend.\n",
    "- sentiment_analysis.\n",
    "- review_year."
   ]
  },
  {
   "cell_type": "code",
   "execution_count": 37,
   "metadata": {},
   "outputs": [
    {
     "data": {
      "text/html": [
       "<div>\n",
       "<style scoped>\n",
       "    .dataframe tbody tr th:only-of-type {\n",
       "        vertical-align: middle;\n",
       "    }\n",
       "\n",
       "    .dataframe tbody tr th {\n",
       "        vertical-align: top;\n",
       "    }\n",
       "\n",
       "    .dataframe thead th {\n",
       "        text-align: right;\n",
       "    }\n",
       "</style>\n",
       "<table border=\"1\" class=\"dataframe\">\n",
       "  <thead>\n",
       "    <tr style=\"text-align: right;\">\n",
       "      <th></th>\n",
       "      <th>item_id</th>\n",
       "      <th>title</th>\n",
       "      <th>recommend</th>\n",
       "      <th>sentiment_analysis</th>\n",
       "      <th>review_year</th>\n",
       "    </tr>\n",
       "  </thead>\n",
       "  <tbody>\n",
       "    <tr>\n",
       "      <th>0</th>\n",
       "      <td>10.0</td>\n",
       "      <td>Counter-Strike</td>\n",
       "      <td>True</td>\n",
       "      <td>2</td>\n",
       "      <td>2015</td>\n",
       "    </tr>\n",
       "    <tr>\n",
       "      <th>1</th>\n",
       "      <td>10.0</td>\n",
       "      <td>Counter-Strike</td>\n",
       "      <td>True</td>\n",
       "      <td>1</td>\n",
       "      <td>2015</td>\n",
       "    </tr>\n",
       "    <tr>\n",
       "      <th>2</th>\n",
       "      <td>10.0</td>\n",
       "      <td>Counter-Strike</td>\n",
       "      <td>True</td>\n",
       "      <td>2</td>\n",
       "      <td>2011</td>\n",
       "    </tr>\n",
       "    <tr>\n",
       "      <th>3</th>\n",
       "      <td>10.0</td>\n",
       "      <td>Counter-Strike</td>\n",
       "      <td>True</td>\n",
       "      <td>2</td>\n",
       "      <td>2014</td>\n",
       "    </tr>\n",
       "    <tr>\n",
       "      <th>4</th>\n",
       "      <td>10.0</td>\n",
       "      <td>Counter-Strike</td>\n",
       "      <td>True</td>\n",
       "      <td>2</td>\n",
       "      <td>2014</td>\n",
       "    </tr>\n",
       "    <tr>\n",
       "      <th>...</th>\n",
       "      <td>...</td>\n",
       "      <td>...</td>\n",
       "      <td>...</td>\n",
       "      <td>...</td>\n",
       "      <td>...</td>\n",
       "    </tr>\n",
       "    <tr>\n",
       "      <th>39144</th>\n",
       "      <td>521430.0</td>\n",
       "      <td>Super Switch</td>\n",
       "      <td>True</td>\n",
       "      <td>2</td>\n",
       "      <td>2016</td>\n",
       "    </tr>\n",
       "    <tr>\n",
       "      <th>39145</th>\n",
       "      <td>521570.0</td>\n",
       "      <td>You Have 10 Seconds 2</td>\n",
       "      <td>True</td>\n",
       "      <td>0</td>\n",
       "      <td>2016</td>\n",
       "    </tr>\n",
       "    <tr>\n",
       "      <th>39146</th>\n",
       "      <td>521570.0</td>\n",
       "      <td>You Have 10 Seconds 2</td>\n",
       "      <td>True</td>\n",
       "      <td>0</td>\n",
       "      <td>2016</td>\n",
       "    </tr>\n",
       "    <tr>\n",
       "      <th>39147</th>\n",
       "      <td>521990.0</td>\n",
       "      <td>Galactic Storm</td>\n",
       "      <td>True</td>\n",
       "      <td>2</td>\n",
       "      <td>2016</td>\n",
       "    </tr>\n",
       "    <tr>\n",
       "      <th>39148</th>\n",
       "      <td>527340.0</td>\n",
       "      <td>What The Box?</td>\n",
       "      <td>True</td>\n",
       "      <td>0</td>\n",
       "      <td>2016</td>\n",
       "    </tr>\n",
       "  </tbody>\n",
       "</table>\n",
       "<p>39149 rows × 5 columns</p>\n",
       "</div>"
      ],
      "text/plain": [
       "        item_id                  title  recommend  sentiment_analysis  \\\n",
       "0          10.0         Counter-Strike       True                   2   \n",
       "1          10.0         Counter-Strike       True                   1   \n",
       "2          10.0         Counter-Strike       True                   2   \n",
       "3          10.0         Counter-Strike       True                   2   \n",
       "4          10.0         Counter-Strike       True                   2   \n",
       "...         ...                    ...        ...                 ...   \n",
       "39144  521430.0           Super Switch       True                   2   \n",
       "39145  521570.0  You Have 10 Seconds 2       True                   0   \n",
       "39146  521570.0  You Have 10 Seconds 2       True                   0   \n",
       "39147  521990.0         Galactic Storm       True                   2   \n",
       "39148  527340.0          What The Box?       True                   0   \n",
       "\n",
       "       review_year  \n",
       "0             2015  \n",
       "1             2015  \n",
       "2             2011  \n",
       "3             2014  \n",
       "4             2014  \n",
       "...            ...  \n",
       "39144         2016  \n",
       "39145         2016  \n",
       "39146         2016  \n",
       "39147         2016  \n",
       "39148         2016  \n",
       "\n",
       "[39149 rows x 5 columns]"
      ]
     },
     "execution_count": 37,
     "metadata": {},
     "output_type": "execute_result"
    }
   ],
   "source": [
    "df_f4 = df_F345[['item_id','title','recommend','sentiment_analysis','review_year']]\n",
    "df_f4"
   ]
  },
  {
   "cell_type": "code",
   "execution_count": 38,
   "metadata": {},
   "outputs": [
    {
     "name": "stdout",
     "output_type": "stream",
     "text": [
      "<class 'pandas.core.frame.DataFrame'>\n",
      "RangeIndex: 39149 entries, 0 to 39148\n",
      "Data columns (total 5 columns):\n",
      " #   Column              Non-Null Count  Dtype  \n",
      "---  ------              --------------  -----  \n",
      " 0   item_id             39149 non-null  float64\n",
      " 1   title               39149 non-null  string \n",
      " 2   recommend           39149 non-null  bool   \n",
      " 3   sentiment_analysis  39149 non-null  int64  \n",
      " 4   review_year         39149 non-null  int64  \n",
      "dtypes: bool(1), float64(1), int64(2), string(1)\n",
      "memory usage: 1.2 MB\n"
     ]
    }
   ],
   "source": [
    "df_f4.info()"
   ]
  },
  {
   "cell_type": "markdown",
   "metadata": {},
   "source": [
    "This function returns the top 3 games MOST recommended by users for the given `year` (reviews.recommend = True and positive/neutral comments).\n",
    "\n",
    "Example of return: [{\"Rank 1\" : item1}, {\"Rank 2\" : item2},{\"Rank 3\" : item3}]"
   ]
  },
  {
   "cell_type": "markdown",
   "metadata": {},
   "source": [
    "To select the less recommended items we are going to use the following criteria:\n",
    "\n",
    "1. Eliminate all the rows that have 'recommend = True'.\n",
    "2. Select only the rows that have the review_year = year entered by the user. \n",
    "4. Select the top 3 items with the most quantity of 'recommend' = False (counter).\n",
    "5. Organize the results as a JSON format.\n",
    "\n",
    "**NOTE:** This function has some quality features that send messages to the user when the the user inserts a year that does not exist or write something different of integer."
   ]
  },
  {
   "cell_type": "markdown",
   "metadata": {},
   "source": [
    "We can do the step one, outside of the function:"
   ]
  },
  {
   "cell_type": "code",
   "execution_count": 39,
   "metadata": {},
   "outputs": [
    {
     "data": {
      "text/html": [
       "<div>\n",
       "<style scoped>\n",
       "    .dataframe tbody tr th:only-of-type {\n",
       "        vertical-align: middle;\n",
       "    }\n",
       "\n",
       "    .dataframe tbody tr th {\n",
       "        vertical-align: top;\n",
       "    }\n",
       "\n",
       "    .dataframe thead th {\n",
       "        text-align: right;\n",
       "    }\n",
       "</style>\n",
       "<table border=\"1\" class=\"dataframe\">\n",
       "  <thead>\n",
       "    <tr style=\"text-align: right;\">\n",
       "      <th></th>\n",
       "      <th>item_id</th>\n",
       "      <th>title</th>\n",
       "      <th>recommend</th>\n",
       "      <th>sentiment_analysis</th>\n",
       "      <th>review_year</th>\n",
       "    </tr>\n",
       "  </thead>\n",
       "  <tbody>\n",
       "    <tr>\n",
       "      <th>0</th>\n",
       "      <td>20.0</td>\n",
       "      <td>Team Fortress Classic</td>\n",
       "      <td>False</td>\n",
       "      <td>0</td>\n",
       "      <td>2014</td>\n",
       "    </tr>\n",
       "    <tr>\n",
       "      <th>1</th>\n",
       "      <td>20.0</td>\n",
       "      <td>Team Fortress Classic</td>\n",
       "      <td>False</td>\n",
       "      <td>0</td>\n",
       "      <td>2016</td>\n",
       "    </tr>\n",
       "    <tr>\n",
       "      <th>2</th>\n",
       "      <td>220.0</td>\n",
       "      <td>Half-Life 2</td>\n",
       "      <td>False</td>\n",
       "      <td>0</td>\n",
       "      <td>2014</td>\n",
       "    </tr>\n",
       "    <tr>\n",
       "      <th>3</th>\n",
       "      <td>220.0</td>\n",
       "      <td>Half-Life 2</td>\n",
       "      <td>False</td>\n",
       "      <td>0</td>\n",
       "      <td>2014</td>\n",
       "    </tr>\n",
       "    <tr>\n",
       "      <th>4</th>\n",
       "      <td>240.0</td>\n",
       "      <td>Counter-Strike: Source</td>\n",
       "      <td>False</td>\n",
       "      <td>0</td>\n",
       "      <td>2015</td>\n",
       "    </tr>\n",
       "    <tr>\n",
       "      <th>...</th>\n",
       "      <td>...</td>\n",
       "      <td>...</td>\n",
       "      <td>...</td>\n",
       "      <td>...</td>\n",
       "      <td>...</td>\n",
       "    </tr>\n",
       "    <tr>\n",
       "      <th>1399</th>\n",
       "      <td>462930.0</td>\n",
       "      <td>AdVenture Communist</td>\n",
       "      <td>False</td>\n",
       "      <td>0</td>\n",
       "      <td>2016</td>\n",
       "    </tr>\n",
       "    <tr>\n",
       "      <th>1400</th>\n",
       "      <td>466910.0</td>\n",
       "      <td>Worm.is: The Game</td>\n",
       "      <td>False</td>\n",
       "      <td>0</td>\n",
       "      <td>2016</td>\n",
       "    </tr>\n",
       "    <tr>\n",
       "      <th>1401</th>\n",
       "      <td>488280.0</td>\n",
       "      <td>Gun Done</td>\n",
       "      <td>False</td>\n",
       "      <td>0</td>\n",
       "      <td>2016</td>\n",
       "    </tr>\n",
       "    <tr>\n",
       "      <th>1402</th>\n",
       "      <td>501760.0</td>\n",
       "      <td>Francisca</td>\n",
       "      <td>False</td>\n",
       "      <td>0</td>\n",
       "      <td>2016</td>\n",
       "    </tr>\n",
       "    <tr>\n",
       "      <th>1403</th>\n",
       "      <td>506140.0</td>\n",
       "      <td>Shop Heroes</td>\n",
       "      <td>False</td>\n",
       "      <td>0</td>\n",
       "      <td>2016</td>\n",
       "    </tr>\n",
       "  </tbody>\n",
       "</table>\n",
       "<p>1404 rows × 5 columns</p>\n",
       "</div>"
      ],
      "text/plain": [
       "       item_id                   title  recommend  sentiment_analysis  \\\n",
       "0         20.0   Team Fortress Classic      False                   0   \n",
       "1         20.0   Team Fortress Classic      False                   0   \n",
       "2        220.0             Half-Life 2      False                   0   \n",
       "3        220.0             Half-Life 2      False                   0   \n",
       "4        240.0  Counter-Strike: Source      False                   0   \n",
       "...        ...                     ...        ...                 ...   \n",
       "1399  462930.0     AdVenture Communist      False                   0   \n",
       "1400  466910.0       Worm.is: The Game      False                   0   \n",
       "1401  488280.0                Gun Done      False                   0   \n",
       "1402  501760.0               Francisca      False                   0   \n",
       "1403  506140.0             Shop Heroes      False                   0   \n",
       "\n",
       "      review_year  \n",
       "0            2014  \n",
       "1            2016  \n",
       "2            2014  \n",
       "3            2014  \n",
       "4            2015  \n",
       "...           ...  \n",
       "1399         2016  \n",
       "1400         2016  \n",
       "1401         2016  \n",
       "1402         2016  \n",
       "1403         2016  \n",
       "\n",
       "[1404 rows x 5 columns]"
      ]
     },
     "execution_count": 39,
     "metadata": {},
     "output_type": "execute_result"
    }
   ],
   "source": [
    "mask = (df_f4['recommend'] == False) & (df_f4['sentiment_analysis'] == 0)\n",
    "df_f4f = df_f4[mask]\n",
    "df_f4 = df_f4f.reset_index(drop=True)\n",
    "df_f4\n"
   ]
  },
  {
   "cell_type": "markdown",
   "metadata": {},
   "source": [
    "Now, let's go to the function:"
   ]
  },
  {
   "cell_type": "code",
   "execution_count": 40,
   "metadata": {},
   "outputs": [],
   "source": [
    "def UsersNotRecommend(year):\n",
    "    # This function returns the top 3 games LEAST recommended by users for the given `year` (reviews.recommend = False and negative comments).\n",
    "    # Example of return: [{\"Rank 1\" : X}, {\"Rank 2\" : Y},{\"Rank 3\" : Z}]\n",
    "\n",
    "    # First, we need to make sure that the year inserted by the user is a number\n",
    "    if type(year) == int: \n",
    "        # Now, let's select only the data for the year given by the user.\n",
    "        mask = df_f4['review_year'] == year\n",
    "        df_f4_review_year = df_f4[mask].reset_index(drop=True)\n",
    "\n",
    "        # We need to verify if the Dataframe is not empty, which means that there are no reviews for that year:\n",
    "        if not df_f4_review_year.empty:\n",
    "\n",
    "            # We count the values considering the 'item_id'\n",
    "            counter = df_f4_review_year['title'].value_counts()\n",
    "\n",
    "            # Three east recommended games\n",
    "            top_3_least_recommended = counter.head(3)\n",
    "\n",
    "            #Now, we create a list of dictionaries for the Rank and item_id\n",
    "            json_data = [{\"Rank \" + str(index + 1): item} for index, item in enumerate(top_3_least_recommended.index)]\n",
    "            \n",
    "            # Now, we create the message in JSON format\n",
    "            json_message = json.dumps(json_data, indent=None, ensure_ascii=False)\n",
    "\n",
    "            return print(json_message)\n",
    "        else:\n",
    "            return print(\"The year inserted has not reviews to calculate the ranking of the most recommended items. Please try with another year.\")\n",
    "    else:\n",
    "        return print(\"Please insert a valid year as an integer number.\")"
   ]
  },
  {
   "cell_type": "code",
   "execution_count": 41,
   "metadata": {},
   "outputs": [
    {
     "name": "stdout",
     "output_type": "stream",
     "text": [
      "The year inserted has not reviews to calculate the ranking of the most recommended items. Please try with another year.\n"
     ]
    }
   ],
   "source": [
    "UsersNotRecommend(2000)"
   ]
  },
  {
   "cell_type": "code",
   "execution_count": 42,
   "metadata": {},
   "outputs": [
    {
     "name": "stdout",
     "output_type": "stream",
     "text": [
      "[{\"Rank 1\": \"PAYDAY™ The Heist\"}, {\"Rank 2\": \"The Kings' Crusade\"}, {\"Rank 3\": \"Red Faction®: Armageddon™\"}]\n"
     ]
    }
   ],
   "source": [
    "UsersNotRecommend(2012)"
   ]
  },
  {
   "cell_type": "code",
   "execution_count": 43,
   "metadata": {},
   "outputs": [
    {
     "name": "stdout",
     "output_type": "stream",
     "text": [
      "[{\"Rank 1\": \"No Man's Sky\"}, {\"Rank 2\": \"Counter-Strike: Global Offensive\"}, {\"Rank 3\": \"Robocraft\"}]\n"
     ]
    }
   ],
   "source": [
    "UsersNotRecommend(2016)"
   ]
  },
  {
   "cell_type": "code",
   "execution_count": 44,
   "metadata": {},
   "outputs": [
    {
     "name": "stdout",
     "output_type": "stream",
     "text": [
      "Please insert a valid year as an integer number.\n"
     ]
    }
   ],
   "source": [
    "UsersNotRecommend(2016.3)"
   ]
  },
  {
   "cell_type": "code",
   "execution_count": 45,
   "metadata": {},
   "outputs": [
    {
     "name": "stdout",
     "output_type": "stream",
     "text": [
      "Please insert a valid year as an integer number.\n"
     ]
    }
   ],
   "source": [
    "UsersNotRecommend(\"Year\")"
   ]
  },
  {
   "cell_type": "markdown",
   "metadata": {},
   "source": [
    "### 5. **Sentiment_analysis**(`year`: int) Function:"
   ]
  },
  {
   "cell_type": "markdown",
   "metadata": {},
   "source": [
    "Based on the release `year`, it returns a list with the count of user review records categorized with sentiment analysis.\n",
    "\n",
    "Example of return: {\"Negative\": 182, \"Neutral\": 120, \"Positive\": 278}"
   ]
  },
  {
   "cell_type": "markdown",
   "metadata": {},
   "source": [
    "For this function, we may need only the following columns of the df_F345 dataframe:\n",
    "\n",
    "- sentiment_analysis.\n",
    "- release_year."
   ]
  },
  {
   "cell_type": "code",
   "execution_count": 46,
   "metadata": {},
   "outputs": [
    {
     "data": {
      "text/html": [
       "<div>\n",
       "<style scoped>\n",
       "    .dataframe tbody tr th:only-of-type {\n",
       "        vertical-align: middle;\n",
       "    }\n",
       "\n",
       "    .dataframe tbody tr th {\n",
       "        vertical-align: top;\n",
       "    }\n",
       "\n",
       "    .dataframe thead th {\n",
       "        text-align: right;\n",
       "    }\n",
       "</style>\n",
       "<table border=\"1\" class=\"dataframe\">\n",
       "  <thead>\n",
       "    <tr style=\"text-align: right;\">\n",
       "      <th></th>\n",
       "      <th>sentiment_analysis</th>\n",
       "      <th>release_year</th>\n",
       "    </tr>\n",
       "  </thead>\n",
       "  <tbody>\n",
       "    <tr>\n",
       "      <th>0</th>\n",
       "      <td>2</td>\n",
       "      <td>2000</td>\n",
       "    </tr>\n",
       "    <tr>\n",
       "      <th>1</th>\n",
       "      <td>1</td>\n",
       "      <td>2000</td>\n",
       "    </tr>\n",
       "    <tr>\n",
       "      <th>2</th>\n",
       "      <td>2</td>\n",
       "      <td>2000</td>\n",
       "    </tr>\n",
       "    <tr>\n",
       "      <th>3</th>\n",
       "      <td>2</td>\n",
       "      <td>2000</td>\n",
       "    </tr>\n",
       "    <tr>\n",
       "      <th>4</th>\n",
       "      <td>2</td>\n",
       "      <td>2000</td>\n",
       "    </tr>\n",
       "    <tr>\n",
       "      <th>...</th>\n",
       "      <td>...</td>\n",
       "      <td>...</td>\n",
       "    </tr>\n",
       "    <tr>\n",
       "      <th>39144</th>\n",
       "      <td>2</td>\n",
       "      <td>2016</td>\n",
       "    </tr>\n",
       "    <tr>\n",
       "      <th>39145</th>\n",
       "      <td>0</td>\n",
       "      <td>2016</td>\n",
       "    </tr>\n",
       "    <tr>\n",
       "      <th>39146</th>\n",
       "      <td>0</td>\n",
       "      <td>2016</td>\n",
       "    </tr>\n",
       "    <tr>\n",
       "      <th>39147</th>\n",
       "      <td>2</td>\n",
       "      <td>2016</td>\n",
       "    </tr>\n",
       "    <tr>\n",
       "      <th>39148</th>\n",
       "      <td>0</td>\n",
       "      <td>2016</td>\n",
       "    </tr>\n",
       "  </tbody>\n",
       "</table>\n",
       "<p>39149 rows × 2 columns</p>\n",
       "</div>"
      ],
      "text/plain": [
       "       sentiment_analysis  release_year\n",
       "0                       2          2000\n",
       "1                       1          2000\n",
       "2                       2          2000\n",
       "3                       2          2000\n",
       "4                       2          2000\n",
       "...                   ...           ...\n",
       "39144                   2          2016\n",
       "39145                   0          2016\n",
       "39146                   0          2016\n",
       "39147                   2          2016\n",
       "39148                   0          2016\n",
       "\n",
       "[39149 rows x 2 columns]"
      ]
     },
     "execution_count": 46,
     "metadata": {},
     "output_type": "execute_result"
    }
   ],
   "source": [
    "df_f5 = df_F345[['sentiment_analysis','release_year']]\n",
    "df_f5"
   ]
  },
  {
   "cell_type": "code",
   "execution_count": 47,
   "metadata": {},
   "outputs": [
    {
     "name": "stdout",
     "output_type": "stream",
     "text": [
      "<class 'pandas.core.frame.DataFrame'>\n",
      "RangeIndex: 39149 entries, 0 to 39148\n",
      "Data columns (total 2 columns):\n",
      " #   Column              Non-Null Count  Dtype\n",
      "---  ------              --------------  -----\n",
      " 0   sentiment_analysis  39149 non-null  int64\n",
      " 1   release_year        39149 non-null  int64\n",
      "dtypes: int64(2)\n",
      "memory usage: 611.8 KB\n"
     ]
    }
   ],
   "source": [
    "df_f5.info()"
   ]
  },
  {
   "cell_type": "markdown",
   "metadata": {},
   "source": [
    "To build this function we need to do the following:\n",
    "\n",
    "1. We make  sure that the year inserted by the user is an integer.\n",
    "2. We build a mask to filter the dataframe by the year inserted.\n",
    "3. If the year inserted does not have values, we need to show a message to the user.\n",
    "4. Then we need to apply the function .value_counts()\n",
    "5. Organize the results as a JSON format.\n",
    "\n",
    "**NOTE:** This function has some quality features that send messages to the user when the the user inserts a year that does not exist or write something different of integer."
   ]
  },
  {
   "cell_type": "code",
   "execution_count": 48,
   "metadata": {},
   "outputs": [],
   "source": [
    "def Sentiment_analysis(year):\n",
    "    # Based on the release `year`, it returns a list with the count of user review records categorized with sentiment analysis.\n",
    "    # Example of return: {\"Negative\": 182, \"Neutral\": 120, \"Positive\": 278}\n",
    "\n",
    "    # First, we need to make sure that the year inserted by the user is a number\n",
    "    if type(year) == int: \n",
    "        # Now, let's select only the data for the year given by the user.\n",
    "        mask = df_f5['release_year'] == year\n",
    "        df_f5_review_year = df_f5[mask].reset_index(drop=True)\n",
    "\n",
    "        # We need to verify if the Dataframe is not empty, which means that there are no reviews for that year:\n",
    "        if not df_f5_review_year.empty:\n",
    "            # We count the values considering the 'sentiment_analysis'\n",
    "            counter = df_f5_review_year['sentiment_analysis'].value_counts().sort_index()\n",
    "\n",
    "            #Now, we create the dataframe that we are going to convert into JSON Format\n",
    "            dataF5 = {\n",
    "                \"Negative\": int(counter.get(0, 0)),\n",
    "                \"Neutral\": int(counter.get(1, 0)),\n",
    "                \"Positive\": int(counter.get(2, 0))\n",
    "            }\n",
    "\n",
    "            # Now, we create the message in JSON format\n",
    "            json_message = json.dumps(dataF5, indent=None, ensure_ascii=False)\n",
    "\n",
    "            return print(json_message)\n",
    "        else:\n",
    "            return print(\"The year inserted has not reviews to calculate the categories of sentiment analysis. Please try with another year.\")\n",
    "    else:\n",
    "        return print(\"Please insert a valid year as an integer number.\")"
   ]
  },
  {
   "cell_type": "code",
   "execution_count": 49,
   "metadata": {},
   "outputs": [
    {
     "name": "stdout",
     "output_type": "stream",
     "text": [
      "{\"Negative\": 900, \"Neutral\": 979, \"Positive\": 3693}\n"
     ]
    }
   ],
   "source": [
    "Sentiment_analysis(2015)"
   ]
  },
  {
   "cell_type": "code",
   "execution_count": 50,
   "metadata": {},
   "outputs": [
    {
     "name": "stdout",
     "output_type": "stream",
     "text": [
      "{\"Negative\": 7, \"Neutral\": 16, \"Positive\": 59}\n"
     ]
    }
   ],
   "source": [
    "Sentiment_analysis(2000)"
   ]
  },
  {
   "cell_type": "code",
   "execution_count": 51,
   "metadata": {},
   "outputs": [
    {
     "name": "stdout",
     "output_type": "stream",
     "text": [
      "The year inserted has not reviews to calculate the categories of sentiment analysis. Please try with another year.\n"
     ]
    }
   ],
   "source": [
    "Sentiment_analysis(2018)"
   ]
  },
  {
   "cell_type": "code",
   "execution_count": 52,
   "metadata": {},
   "outputs": [
    {
     "name": "stdout",
     "output_type": "stream",
     "text": [
      "Please insert a valid year as an integer number.\n"
     ]
    }
   ],
   "source": [
    "Sentiment_analysis(\"Year\")"
   ]
  },
  {
   "cell_type": "markdown",
   "metadata": {},
   "source": [
    "### 6. **Game_Recommendation**(`item_id`: int) Function:"
   ]
  },
  {
   "cell_type": "markdown",
   "metadata": {},
   "source": [
    "By entering the `item_id`, we should receive a list with 5 recommended games similar to the one entered.\n",
    "\n",
    "\n",
    "  Example of return: [{\"Rec 1\": \"PAYDAY™ The Heist\"}, {\"Rec 2\": \"The Kings' Crusade\"}, {\"Rec 3\": \"Red Faction®: Armageddon™\"}, {\"Rec 4\": \"No Man's Sky\"}, {\"Rec 5\": \"Robocraft\"} ]"
   ]
  },
  {
   "cell_type": "markdown",
   "metadata": {},
   "source": [
    "For this purpose we are going to use a method called **Cosine Similarity**.\n",
    "\n",
    "This is a mathematical measure used to determine the similarity between two vectors in a multi-dimensional space. It is often applied in various fields, including natural language processing, information retrieval, recommendation systems, and more. The cosine similarity method is particularly useful when dealing with high-dimensional data, such as text data, where traditional Euclidean distance measures may not be as effective.\n",
    "\n",
    "Here's how cosine similarity works:\n",
    "\n",
    "1. **Vector Representation:** First, we need to represent the objects we want to compare as vectors. These vectors can represent various attributes or features of the objects. In the context of text data, each vector typically represents a document or a piece of text, where each dimension corresponds to a specific word or term, and the value in each dimension can be based on various measures like term frequency, term frequency-inverse document frequency (TF-IDF), word embeddings, etc.\n",
    "\n",
    "2. **Cosine Calculation:** To compute the cosine similarity between two vectors A and B, you calculate the cosine of the angle between them using the following formula:\n",
    "\n",
    "    ```python\n",
    "    cosine_similarity(A, B) = (A · B) / (||A|| * ||B||)\n",
    "    ```\n",
    "\n",
    "    (A · B) is the dot product of vectors A and B.\n",
    "    \n",
    "    ||A|| and ||B|| are the magnitudes (or Euclidean norms) of vectors A and B, respectively.\n",
    "\n",
    "3. **Result:** The cosine similarity measure will produce a value between -1 and 1, where:\n",
    "    - 1 indicates that the vectors are identical (perfect similarity).\n",
    "    - 0 indicates that the vectors are orthogonal (no similarity).\n",
    "    - -1 indicates that the vectors are diametrically opposed (perfect dissimilarity).\n"
   ]
  },
  {
   "cell_type": "markdown",
   "metadata": {},
   "source": [
    "To develop this process we are going to use the Dataframe FML1 that we developed for this recommendation system."
   ]
  },
  {
   "cell_type": "code",
   "execution_count": 56,
   "metadata": {},
   "outputs": [
    {
     "data": {
      "text/html": [
       "<div>\n",
       "<style scoped>\n",
       "    .dataframe tbody tr th:only-of-type {\n",
       "        vertical-align: middle;\n",
       "    }\n",
       "\n",
       "    .dataframe tbody tr th {\n",
       "        vertical-align: top;\n",
       "    }\n",
       "\n",
       "    .dataframe thead th {\n",
       "        text-align: right;\n",
       "    }\n",
       "</style>\n",
       "<table border=\"1\" class=\"dataframe\">\n",
       "  <thead>\n",
       "    <tr style=\"text-align: right;\">\n",
       "      <th></th>\n",
       "      <th>item_id</th>\n",
       "      <th>title</th>\n",
       "      <th>tags</th>\n",
       "    </tr>\n",
       "  </thead>\n",
       "  <tbody>\n",
       "    <tr>\n",
       "      <th>0</th>\n",
       "      <td>761140.0</td>\n",
       "      <td>Lost Summoner Kitty</td>\n",
       "      <td>['Strategy', 'Action', 'Indie', 'Casual', 'Sim...</td>\n",
       "    </tr>\n",
       "    <tr>\n",
       "      <th>1</th>\n",
       "      <td>643980.0</td>\n",
       "      <td>Ironbound</td>\n",
       "      <td>['Free to Play', 'Strategy', 'Indie', 'RPG', '...</td>\n",
       "    </tr>\n",
       "    <tr>\n",
       "      <th>2</th>\n",
       "      <td>670290.0</td>\n",
       "      <td>Real Pool 3D - Poolians</td>\n",
       "      <td>['Free to Play', 'Simulation', 'Sports', 'Casu...</td>\n",
       "    </tr>\n",
       "    <tr>\n",
       "      <th>3</th>\n",
       "      <td>767400.0</td>\n",
       "      <td>弹炸人2222</td>\n",
       "      <td>['Action', 'Adventure', 'Casual']</td>\n",
       "    </tr>\n",
       "    <tr>\n",
       "      <th>4</th>\n",
       "      <td>772540.0</td>\n",
       "      <td>Battle Royale Trainer</td>\n",
       "      <td>['Action', 'Adventure', 'Simulation', 'FPS', '...</td>\n",
       "    </tr>\n",
       "    <tr>\n",
       "      <th>...</th>\n",
       "      <td>...</td>\n",
       "      <td>...</td>\n",
       "      <td>...</td>\n",
       "    </tr>\n",
       "    <tr>\n",
       "      <th>29917</th>\n",
       "      <td>745400.0</td>\n",
       "      <td>Kebab it Up!</td>\n",
       "      <td>['Action', 'Indie', 'Casual', 'Violent', 'Adve...</td>\n",
       "    </tr>\n",
       "    <tr>\n",
       "      <th>29918</th>\n",
       "      <td>773640.0</td>\n",
       "      <td>Colony On Mars</td>\n",
       "      <td>['Strategy', 'Indie', 'Casual', 'Simulation']</td>\n",
       "    </tr>\n",
       "    <tr>\n",
       "      <th>29919</th>\n",
       "      <td>733530.0</td>\n",
       "      <td>LOGistICAL: South Africa</td>\n",
       "      <td>['Strategy', 'Indie', 'Casual']</td>\n",
       "    </tr>\n",
       "    <tr>\n",
       "      <th>29920</th>\n",
       "      <td>610660.0</td>\n",
       "      <td>Russian Roads</td>\n",
       "      <td>['Indie', 'Simulation', 'Racing']</td>\n",
       "    </tr>\n",
       "    <tr>\n",
       "      <th>29921</th>\n",
       "      <td>658870.0</td>\n",
       "      <td>EXIT 2 - Directions</td>\n",
       "      <td>['Indie', 'Casual', 'Puzzle', 'Singleplayer', ...</td>\n",
       "    </tr>\n",
       "  </tbody>\n",
       "</table>\n",
       "<p>29922 rows × 3 columns</p>\n",
       "</div>"
      ],
      "text/plain": [
       "        item_id                     title  \\\n",
       "0      761140.0       Lost Summoner Kitty   \n",
       "1      643980.0                 Ironbound   \n",
       "2      670290.0   Real Pool 3D - Poolians   \n",
       "3      767400.0                   弹炸人2222   \n",
       "4      772540.0     Battle Royale Trainer   \n",
       "...         ...                       ...   \n",
       "29917  745400.0              Kebab it Up!   \n",
       "29918  773640.0            Colony On Mars   \n",
       "29919  733530.0  LOGistICAL: South Africa   \n",
       "29920  610660.0             Russian Roads   \n",
       "29921  658870.0       EXIT 2 - Directions   \n",
       "\n",
       "                                                    tags  \n",
       "0      ['Strategy', 'Action', 'Indie', 'Casual', 'Sim...  \n",
       "1      ['Free to Play', 'Strategy', 'Indie', 'RPG', '...  \n",
       "2      ['Free to Play', 'Simulation', 'Sports', 'Casu...  \n",
       "3                      ['Action', 'Adventure', 'Casual']  \n",
       "4      ['Action', 'Adventure', 'Simulation', 'FPS', '...  \n",
       "...                                                  ...  \n",
       "29917  ['Action', 'Indie', 'Casual', 'Violent', 'Adve...  \n",
       "29918      ['Strategy', 'Indie', 'Casual', 'Simulation']  \n",
       "29919                    ['Strategy', 'Indie', 'Casual']  \n",
       "29920                  ['Indie', 'Simulation', 'Racing']  \n",
       "29921  ['Indie', 'Casual', 'Puzzle', 'Singleplayer', ...  \n",
       "\n",
       "[29922 rows x 3 columns]"
      ]
     },
     "execution_count": 56,
     "metadata": {},
     "output_type": "execute_result"
    }
   ],
   "source": [
    "df_FML1_for_Model = pd.read_parquet('FML1.parquet')\n",
    "df_FML1_for_Model"
   ]
  },
  {
   "cell_type": "code",
   "execution_count": 57,
   "metadata": {},
   "outputs": [
    {
     "name": "stdout",
     "output_type": "stream",
     "text": [
      "<class 'pandas.core.frame.DataFrame'>\n",
      "RangeIndex: 29922 entries, 0 to 29921\n",
      "Data columns (total 3 columns):\n",
      " #   Column   Non-Null Count  Dtype  \n",
      "---  ------   --------------  -----  \n",
      " 0   item_id  29922 non-null  float64\n",
      " 1   title    29922 non-null  string \n",
      " 2   tags     29922 non-null  object \n",
      "dtypes: float64(1), object(1), string(1)\n",
      "memory usage: 701.4+ KB\n"
     ]
    }
   ],
   "source": [
    "df_FML1_for_Model.info()"
   ]
  },
  {
   "cell_type": "markdown",
   "metadata": {},
   "source": [
    "Import the libraries:"
   ]
  },
  {
   "cell_type": "code",
   "execution_count": 58,
   "metadata": {},
   "outputs": [],
   "source": [
    "import pandas as pd\n",
    "from sklearn.feature_extraction.text import TfidfVectorizer\n",
    "from sklearn.metrics.pairwise import cosine_similarity"
   ]
  },
  {
   "cell_type": "markdown",
   "metadata": {},
   "source": [
    "We need to preprocess it the data, such as handling missing values and converting text columns (genres, tags, specs) into a single text column for vectorization. We can do this as follows:"
   ]
  },
  {
   "cell_type": "code",
   "execution_count": 59,
   "metadata": {},
   "outputs": [
    {
     "data": {
      "text/html": [
       "<div>\n",
       "<style scoped>\n",
       "    .dataframe tbody tr th:only-of-type {\n",
       "        vertical-align: middle;\n",
       "    }\n",
       "\n",
       "    .dataframe tbody tr th {\n",
       "        vertical-align: top;\n",
       "    }\n",
       "\n",
       "    .dataframe thead th {\n",
       "        text-align: right;\n",
       "    }\n",
       "</style>\n",
       "<table border=\"1\" class=\"dataframe\">\n",
       "  <thead>\n",
       "    <tr style=\"text-align: right;\">\n",
       "      <th></th>\n",
       "      <th>item_id</th>\n",
       "      <th>title</th>\n",
       "      <th>tags</th>\n",
       "      <th>combined_features</th>\n",
       "    </tr>\n",
       "  </thead>\n",
       "  <tbody>\n",
       "    <tr>\n",
       "      <th>0</th>\n",
       "      <td>761140.0</td>\n",
       "      <td>Lost Summoner Kitty</td>\n",
       "      <td>['Strategy', 'Action', 'Indie', 'Casual', 'Sim...</td>\n",
       "      <td>['Strategy', 'Action', 'Indie', 'Casual', 'Sim...</td>\n",
       "    </tr>\n",
       "    <tr>\n",
       "      <th>1</th>\n",
       "      <td>643980.0</td>\n",
       "      <td>Ironbound</td>\n",
       "      <td>['Free to Play', 'Strategy', 'Indie', 'RPG', '...</td>\n",
       "      <td>['Free to Play', 'Strategy', 'Indie', 'RPG', '...</td>\n",
       "    </tr>\n",
       "    <tr>\n",
       "      <th>2</th>\n",
       "      <td>670290.0</td>\n",
       "      <td>Real Pool 3D - Poolians</td>\n",
       "      <td>['Free to Play', 'Simulation', 'Sports', 'Casu...</td>\n",
       "      <td>['Free to Play', 'Simulation', 'Sports', 'Casu...</td>\n",
       "    </tr>\n",
       "    <tr>\n",
       "      <th>3</th>\n",
       "      <td>767400.0</td>\n",
       "      <td>弹炸人2222</td>\n",
       "      <td>['Action', 'Adventure', 'Casual']</td>\n",
       "      <td>['Action', 'Adventure', 'Casual']</td>\n",
       "    </tr>\n",
       "    <tr>\n",
       "      <th>4</th>\n",
       "      <td>772540.0</td>\n",
       "      <td>Battle Royale Trainer</td>\n",
       "      <td>['Action', 'Adventure', 'Simulation', 'FPS', '...</td>\n",
       "      <td>['Action', 'Adventure', 'Simulation', 'FPS', '...</td>\n",
       "    </tr>\n",
       "    <tr>\n",
       "      <th>...</th>\n",
       "      <td>...</td>\n",
       "      <td>...</td>\n",
       "      <td>...</td>\n",
       "      <td>...</td>\n",
       "    </tr>\n",
       "    <tr>\n",
       "      <th>29917</th>\n",
       "      <td>745400.0</td>\n",
       "      <td>Kebab it Up!</td>\n",
       "      <td>['Action', 'Indie', 'Casual', 'Violent', 'Adve...</td>\n",
       "      <td>['Action', 'Indie', 'Casual', 'Violent', 'Adve...</td>\n",
       "    </tr>\n",
       "    <tr>\n",
       "      <th>29918</th>\n",
       "      <td>773640.0</td>\n",
       "      <td>Colony On Mars</td>\n",
       "      <td>['Strategy', 'Indie', 'Casual', 'Simulation']</td>\n",
       "      <td>['Strategy', 'Indie', 'Casual', 'Simulation']</td>\n",
       "    </tr>\n",
       "    <tr>\n",
       "      <th>29919</th>\n",
       "      <td>733530.0</td>\n",
       "      <td>LOGistICAL: South Africa</td>\n",
       "      <td>['Strategy', 'Indie', 'Casual']</td>\n",
       "      <td>['Strategy', 'Indie', 'Casual']</td>\n",
       "    </tr>\n",
       "    <tr>\n",
       "      <th>29920</th>\n",
       "      <td>610660.0</td>\n",
       "      <td>Russian Roads</td>\n",
       "      <td>['Indie', 'Simulation', 'Racing']</td>\n",
       "      <td>['Indie', 'Simulation', 'Racing']</td>\n",
       "    </tr>\n",
       "    <tr>\n",
       "      <th>29921</th>\n",
       "      <td>658870.0</td>\n",
       "      <td>EXIT 2 - Directions</td>\n",
       "      <td>['Indie', 'Casual', 'Puzzle', 'Singleplayer', ...</td>\n",
       "      <td>['Indie', 'Casual', 'Puzzle', 'Singleplayer', ...</td>\n",
       "    </tr>\n",
       "  </tbody>\n",
       "</table>\n",
       "<p>29922 rows × 4 columns</p>\n",
       "</div>"
      ],
      "text/plain": [
       "        item_id                     title  \\\n",
       "0      761140.0       Lost Summoner Kitty   \n",
       "1      643980.0                 Ironbound   \n",
       "2      670290.0   Real Pool 3D - Poolians   \n",
       "3      767400.0                   弹炸人2222   \n",
       "4      772540.0     Battle Royale Trainer   \n",
       "...         ...                       ...   \n",
       "29917  745400.0              Kebab it Up!   \n",
       "29918  773640.0            Colony On Mars   \n",
       "29919  733530.0  LOGistICAL: South Africa   \n",
       "29920  610660.0             Russian Roads   \n",
       "29921  658870.0       EXIT 2 - Directions   \n",
       "\n",
       "                                                    tags  \\\n",
       "0      ['Strategy', 'Action', 'Indie', 'Casual', 'Sim...   \n",
       "1      ['Free to Play', 'Strategy', 'Indie', 'RPG', '...   \n",
       "2      ['Free to Play', 'Simulation', 'Sports', 'Casu...   \n",
       "3                      ['Action', 'Adventure', 'Casual']   \n",
       "4      ['Action', 'Adventure', 'Simulation', 'FPS', '...   \n",
       "...                                                  ...   \n",
       "29917  ['Action', 'Indie', 'Casual', 'Violent', 'Adve...   \n",
       "29918      ['Strategy', 'Indie', 'Casual', 'Simulation']   \n",
       "29919                    ['Strategy', 'Indie', 'Casual']   \n",
       "29920                  ['Indie', 'Simulation', 'Racing']   \n",
       "29921  ['Indie', 'Casual', 'Puzzle', 'Singleplayer', ...   \n",
       "\n",
       "                                       combined_features  \n",
       "0      ['Strategy', 'Action', 'Indie', 'Casual', 'Sim...  \n",
       "1      ['Free to Play', 'Strategy', 'Indie', 'RPG', '...  \n",
       "2      ['Free to Play', 'Simulation', 'Sports', 'Casu...  \n",
       "3                      ['Action', 'Adventure', 'Casual']  \n",
       "4      ['Action', 'Adventure', 'Simulation', 'FPS', '...  \n",
       "...                                                  ...  \n",
       "29917  ['Action', 'Indie', 'Casual', 'Violent', 'Adve...  \n",
       "29918      ['Strategy', 'Indie', 'Casual', 'Simulation']  \n",
       "29919                    ['Strategy', 'Indie', 'Casual']  \n",
       "29920                  ['Indie', 'Simulation', 'Racing']  \n",
       "29921  ['Indie', 'Casual', 'Puzzle', 'Singleplayer', ...  \n",
       "\n",
       "[29922 rows x 4 columns]"
      ]
     },
     "execution_count": 59,
     "metadata": {},
     "output_type": "execute_result"
    }
   ],
   "source": [
    "# Combine text columns into a single column for vectorization\n",
    "df_FML1_for_Model['combined_features'] = df_FML1_for_Model['tags']\n",
    "\n",
    "# Fill missing values\n",
    "df_FML1_for_Model['combined_features'].fillna('', inplace=True)\n",
    "\n",
    "df_FML1_for_Model"
   ]
  },
  {
   "cell_type": "markdown",
   "metadata": {},
   "source": [
    "Now, we use TF-IDF (Term Frequency-Inverse Document Frequency) vectorization to convert our text data into numerical vectors."
   ]
  },
  {
   "cell_type": "code",
   "execution_count": 60,
   "metadata": {},
   "outputs": [],
   "source": [
    "tfidf_vectorizer = TfidfVectorizer()\n",
    "tfidf_matrix = tfidf_vectorizer.fit_transform(df_FML1_for_Model['combined_features'])"
   ]
  },
  {
   "cell_type": "markdown",
   "metadata": {},
   "source": [
    "Now, we calculate cosine similarities between all pairs of items in our dataset. We can use the cosine_similarity function from scikit-learn:"
   ]
  },
  {
   "cell_type": "code",
   "execution_count": 61,
   "metadata": {},
   "outputs": [],
   "source": [
    "cosine_sim = cosine_similarity(tfidf_matrix, tfidf_matrix)"
   ]
  },
  {
   "cell_type": "markdown",
   "metadata": {},
   "source": [
    "We can see that the calculation of the cosine similarities took 34 seconds. This is a high consumption of resources. Let's continue programming the recommendation function and check the results."
   ]
  },
  {
   "cell_type": "markdown",
   "metadata": {},
   "source": [
    "Now, we can create a function to recommend games based on a given item_id."
   ]
  },
  {
   "cell_type": "code",
   "execution_count": 62,
   "metadata": {},
   "outputs": [],
   "source": [
    "def Game_RecommendationCS(item_id, cosine_sim=cosine_sim):\n",
    "# By entering the `item_id`, we should receive a list with 5 recommended games similar to the one entered.\n",
    "    # We review the user enter a number\n",
    "    if (type(item_id) == float) | (type(item_id) == int):\n",
    "        # Now, let's review the item_id exists\n",
    "        if item_id in df_FML1_for_Model['item_id'].values:\n",
    "            # We capture the index of the game in the column 'item_id'\n",
    "            game_index = df_FML1_for_Model[df_FML1_for_Model['item_id'] == item_id].index[0]\n",
    "            # We calculate cosine similarity scores for the input game with all other games\n",
    "            similar_scores = list(enumerate(cosine_sim[game_index]))\n",
    "            # We sort the similar_scores based on the cosine similarity values in descending order\n",
    "            similar_scores = sorted(similar_scores, key=lambda x: x[1], reverse=True)\n",
    "            # We exclude the input game itself (most similar game will be the input game)\n",
    "            similar_scores = similar_scores[1:6]\n",
    "            \n",
    "            # We create a list of recommended games in a JSON format.\n",
    "            recommended_games = [{\"Rec {}\".format(i + 1): df_FML1_for_Model.iloc[score[0]]['title']} for i, score in enumerate(similar_scores)]\n",
    "            \n",
    "            return recommended_games\n",
    "        else:\n",
    "            return print('The item_id does not exists. Please try again.')\n",
    "    else:\n",
    "        return print(\"The item_id must be a number, please enter a new item_id\")"
   ]
  },
  {
   "cell_type": "code",
   "execution_count": 63,
   "metadata": {},
   "outputs": [
    {
     "data": {
      "text/plain": [
       "[{'Rec 1': 'World of Cinema - Directors Cut'},\n",
       " {'Rec 2': 'Aerial Destruction'},\n",
       " {'Rec 3': 'Cyber Complex'},\n",
       " {'Rec 4': \"Trivia Vault: 1980's Trivia 2\"},\n",
       " {'Rec 5': 'Trivia Vault: Science &amp; History Trivia 2'}]"
      ]
     },
     "execution_count": 63,
     "metadata": {},
     "output_type": "execute_result"
    }
   ],
   "source": [
    "Game_RecommendationCS(761140)"
   ]
  },
  {
   "cell_type": "code",
   "execution_count": 64,
   "metadata": {},
   "outputs": [
    {
     "data": {
      "text/plain": [
       "[{'Rec 1': 'Ticket to Ride - USA 1910'},\n",
       " {'Rec 2': 'Ticket to Ride - Europe'},\n",
       " {'Rec 3': 'Tribloos 2'},\n",
       " {'Rec 4': 'Hive - The Ladybug'},\n",
       " {'Rec 5': 'Bounders and Cads'}]"
      ]
     },
     "execution_count": 64,
     "metadata": {},
     "output_type": "execute_result"
    }
   ],
   "source": [
    "Game_RecommendationCS(733530.0)"
   ]
  },
  {
   "cell_type": "code",
   "execution_count": 65,
   "metadata": {},
   "outputs": [
    {
     "data": {
      "text/plain": [
       "[{'Rec 1': 'Car Mechanic Simulator 2015 - Total Modifications'},\n",
       " {'Rec 2': 'SoundTracks: The Train Set Game'},\n",
       " {'Rec 3': 'RC-AirSim - RC Model Airplane Flight Simulator'},\n",
       " {'Rec 4': 'Car Mechanic Simulator 2015 - DeLorean'},\n",
       " {'Rec 5': 'Russian Roads'}]"
      ]
     },
     "execution_count": 65,
     "metadata": {},
     "output_type": "execute_result"
    }
   ],
   "source": [
    "Game_RecommendationCS(610660.0)"
   ]
  },
  {
   "cell_type": "code",
   "execution_count": 66,
   "metadata": {},
   "outputs": [
    {
     "data": {
      "text/plain": [
       "[{'Rec 1': 'Counter-Strike: Source'},\n",
       " {'Rec 2': 'Counter-Strike: Condition Zero'},\n",
       " {'Rec 3': 'Insurgency'},\n",
       " {'Rec 4': 'Umbrella Corps™/Biohazard Umbrella Corps™'},\n",
       " {'Rec 5': 'Counter-Strike: Global Offensive'}]"
      ]
     },
     "execution_count": 66,
     "metadata": {},
     "output_type": "execute_result"
    }
   ],
   "source": [
    "Game_RecommendationCS(10.0)"
   ]
  },
  {
   "cell_type": "code",
   "execution_count": 69,
   "metadata": {},
   "outputs": [
    {
     "name": "stdout",
     "output_type": "stream",
     "text": [
      "The item_id does not exists. Please try again.\n"
     ]
    }
   ],
   "source": [
    "Game_RecommendationCS(200)"
   ]
  },
  {
   "cell_type": "code",
   "execution_count": 70,
   "metadata": {},
   "outputs": [
    {
     "name": "stdout",
     "output_type": "stream",
     "text": [
      "The item_id must be a number, please enter a new item_id\n"
     ]
    }
   ],
   "source": [
    "Game_RecommendationCS(\"item\")"
   ]
  },
  {
   "cell_type": "markdown",
   "metadata": {},
   "source": [
    "We can see that we are recieving the best 5 recommendations based on a item_id entered by the user. However, we can imrpoe the velocity of our calculations without computing the cosine similarities. We can use an approximation method called **LSH (Locality-Sensitive Hashing)**."
   ]
  },
  {
   "cell_type": "markdown",
   "metadata": {},
   "source": [
    "**Locality-Sensitive Hashing (LSH)** is a technique used in data mining and information retrieval to approximate similarity between data points in a high-dimensional space. It's often used as an alternative to traditional similarity measures like cosine similarity when dealing with large datasets where exact similarity computation becomes computationally expensive.\n",
    "\n",
    "For this method we use something called **Random Binary Projections**.\n",
    "\n",
    "**Random Binary Projections** are a specific type of hash function used in LSH. These hash functions work by randomly generating a set of binary values (0s and 1s) and using them to project the data points onto a lower-dimensional space. The randomness of these projections is a key factor in LSH because it introduces a controlled level of randomness that helps group similar data points together with a higher probability."
   ]
  },
  {
   "cell_type": "markdown",
   "metadata": {},
   "source": [
    "Here's how we can program it on Python:"
   ]
  },
  {
   "cell_type": "markdown",
   "metadata": {},
   "source": [
    "First, we need to import the libraries:"
   ]
  },
  {
   "cell_type": "code",
   "execution_count": 71,
   "metadata": {},
   "outputs": [
    {
     "ename": "ModuleNotFoundError",
     "evalue": "No module named 'nearpy'",
     "output_type": "error",
     "traceback": [
      "\u001b[0;31m---------------------------------------------------------------------------\u001b[0m",
      "\u001b[0;31mModuleNotFoundError\u001b[0m                       Traceback (most recent call last)",
      "Cell \u001b[0;32mIn[71], line 2\u001b[0m\n\u001b[1;32m      1\u001b[0m \u001b[38;5;28;01mimport\u001b[39;00m \u001b[38;5;21;01mnumpy\u001b[39;00m \u001b[38;5;28;01mas\u001b[39;00m \u001b[38;5;21;01mnp\u001b[39;00m\n\u001b[0;32m----> 2\u001b[0m \u001b[38;5;28;01mfrom\u001b[39;00m \u001b[38;5;21;01mnearpy\u001b[39;00m \u001b[38;5;28;01mimport\u001b[39;00m Engine\n\u001b[1;32m      3\u001b[0m \u001b[38;5;28;01mfrom\u001b[39;00m \u001b[38;5;21;01mnearpy\u001b[39;00m\u001b[38;5;21;01m.\u001b[39;00m\u001b[38;5;21;01mhashes\u001b[39;00m \u001b[38;5;28;01mimport\u001b[39;00m RandomBinaryProjections\n\u001b[1;32m      4\u001b[0m \u001b[38;5;28;01mfrom\u001b[39;00m \u001b[38;5;21;01msklearn\u001b[39;00m\u001b[38;5;21;01m.\u001b[39;00m\u001b[38;5;21;01mfeature_extraction\u001b[39;00m\u001b[38;5;21;01m.\u001b[39;00m\u001b[38;5;21;01mtext\u001b[39;00m \u001b[38;5;28;01mimport\u001b[39;00m TfidfVectorizer\n",
      "\u001b[0;31mModuleNotFoundError\u001b[0m: No module named 'nearpy'"
     ]
    }
   ],
   "source": [
    "import numpy as np\n",
    "from nearpy import Engine\n",
    "from nearpy.hashes import RandomBinaryProjections\n",
    "from sklearn.feature_extraction.text import TfidfVectorizer\n",
    "from sklearn.metrics.pairwise import cosine_similarity"
   ]
  },
  {
   "cell_type": "markdown",
   "metadata": {},
   "source": [
    "As in the model of cosine-similarities, we need to calculate the vectors and fill the NaN with ''."
   ]
  },
  {
   "cell_type": "code",
   "execution_count": null,
   "metadata": {},
   "outputs": [],
   "source": [
    "tfidf_vectorizer = TfidfVectorizer()\n",
    "tfidf_matrix = tfidf_vectorizer.fit_transform(df_FML1_for_Model['combined_features'].fillna(''))"
   ]
  },
  {
   "cell_type": "code",
   "execution_count": null,
   "metadata": {},
   "outputs": [],
   "source": [
    "# We set the number of dimensions in the TF-IDF matrix\n",
    "num_dimensions = tfidf_matrix.shape[1]\n",
    "\n",
    "# Also, we set the number of hash functions (random binary projections)\n",
    "num_hash_functions = 4  # We can adjust this value according to our needs\n",
    "\n",
    "# Create the LSH engine\n",
    "engine = Engine(num_dimensions, lshashes=[RandomBinaryProjections('rbp', num_hash_functions)])"
   ]
  },
  {
   "cell_type": "markdown",
   "metadata": {},
   "source": [
    "In the code above we can see that there is a number of hash_functions. We need to calculate this hiperarameter considering this balance:"
   ]
  },
  {
   "cell_type": "markdown",
   "metadata": {},
   "source": [
    "**Higher `num_hash_functions` (More Hash Functions):**\n",
    "\n",
    "- **Pros:**\n",
    "    **Increased Precision:** With more hash functions, it becomes less likely for dissimilar data points to hash to the same bucket. This can lead to higher precision because there are fewer false positives when searching for similar items.\n",
    "- **Cons:**\n",
    "    **Reduced Recall:** While precision may increase, recall (the ability to find all similar items) may decrease. More hash functions mean that similar items must match on multiple hash functions to be considered similar, which could lead to some similar items being missed.\n",
    "\n",
    "**Lower `num_hash_functions` (Fewer Hash Functions):**\n",
    "\n",
    "- **Pros:**\n",
    "    **Increased Recall:** With fewer hash functions, it becomes easier for similar data points to hash to the same bucket, increasing the chances of finding all similar items.\n",
    "- **Cons:**\n",
    "    **Reduced Precision:** However, a lower number of hash functions can also result in more false positives because dissimilar items may accidentally hash to the same bucket."
   ]
  },
  {
   "cell_type": "markdown",
   "metadata": {},
   "source": [
    "In this case we have chosen 4. Let's see if we have a good approximation of what we obtained with the cosine similarity model."
   ]
  },
  {
   "cell_type": "markdown",
   "metadata": {},
   "source": [
    "Now, we iterate through rows of the TF-IDF matrix and associate them with item IDs:"
   ]
  },
  {
   "cell_type": "code",
   "execution_count": null,
   "metadata": {},
   "outputs": [],
   "source": [
    "# Loop through each row and its index in the TF-IDF matrix\n",
    "for i, row in enumerate(tfidf_matrix):\n",
    "\n",
    "    # Extract the item_id from the corresponding row in the DataFrame 'df_FML1_for_Model'\n",
    "    game_id = df_FML1_for_Model.iloc[i]['item_id']\n",
    "\n",
    "    # Store the TF-IDF vector as a flattened array in the LSH engine, associated with the game ID\n",
    "    engine.store_vector(row.toarray().flatten(), data=game_id)"
   ]
  },
  {
   "cell_type": "code",
   "execution_count": null,
   "metadata": {},
   "outputs": [],
   "source": [
    "def Game_Recommendation(item_id, engine=engine):\n",
    "    \"\"\"\n",
    "    Recommends similar games using Locality-Sensitive Hashing (LSH).\n",
    "\n",
    "    Parameters:\n",
    "        item_id (int): The ID of the game for which recommendations are requested.\n",
    "        engine (LSH Engine): The LSH engine used for similarity search.\n",
    "\n",
    "    Returns:\n",
    "        list: A list of recommended games in JSON format.\n",
    "    \"\"\"\n",
    "    \n",
    "    # By entering the `item_id`, we should receive a list with 5 recommended games similar to the one entered.\n",
    "    # We review the user enter a number\n",
    "    if (type(item_id) == float) | (type(item_id) == int):\n",
    "        # Now, let's review the item_id exists\n",
    "        if item_id in df_FML1_for_Model['item_id'].values:\n",
    "                # We Get the LSH index of the input game\n",
    "\n",
    "                # Query the TF-IDF matrix to get the TF-IDF vector for the input game\n",
    "                query = tfidf_matrix[df_FML1_for_Model['item_id'] == item_id].toarray().flatten()\n",
    "\n",
    "                # Use LSH to find similar games (neighbors) to the input game\n",
    "                neighbors = engine.neighbours(query)\n",
    "\n",
    "                # Recommendations based on LSH\n",
    "\n",
    "                # Extract the game IDs of the recommended games, excluding the input game, and limit to the top 5\n",
    "                recommended_game_ids = [neighbor[1] for neighbor in neighbors if neighbor[1] != item_id][:5]\n",
    "\n",
    "                # Filter the DataFrame to get details of the recommended games (titles)\n",
    "                recommended_games = df_FML1_for_Model[df_FML1_for_Model['item_id'].isin(recommended_game_ids)][['title']]\n",
    "\n",
    "                # Construct the list of recommendations in JSON format\n",
    "                result = [{'Rec {}'.format(i + 1): game} for i, game in enumerate(recommended_games['title'])]\n",
    "\n",
    "                return result\n",
    "        else:\n",
    "            return print('The item_id does not exists. Please try again.')\n",
    "    else:\n",
    "        return print(\"The item_id must be a number, please enter a new item_id\")"
   ]
  },
  {
   "cell_type": "code",
   "execution_count": null,
   "metadata": {},
   "outputs": [],
   "source": [
    "Game_Recommendation(761140)"
   ]
  },
  {
   "cell_type": "code",
   "execution_count": null,
   "metadata": {},
   "outputs": [],
   "source": [
    "Game_Recommendation(733530.0)"
   ]
  },
  {
   "cell_type": "code",
   "execution_count": null,
   "metadata": {},
   "outputs": [],
   "source": [
    "Game_Recommendation(610660.0)"
   ]
  },
  {
   "cell_type": "code",
   "execution_count": null,
   "metadata": {},
   "outputs": [],
   "source": [
    "Game_Recommendation(10)"
   ]
  },
  {
   "cell_type": "code",
   "execution_count": null,
   "metadata": {},
   "outputs": [],
   "source": [
    "Game_Recommendation(10.3)"
   ]
  },
  {
   "cell_type": "code",
   "execution_count": null,
   "metadata": {},
   "outputs": [],
   "source": [
    "Game_Recommendation(\"Item\")"
   ]
  },
  {
   "cell_type": "markdown",
   "metadata": {},
   "source": [
    "We can see that we have almost the same results between the two models, and with the LSH approximation we do not consume so much resources as with the cosine-similariies method. "
   ]
  },
  {
   "cell_type": "markdown",
   "metadata": {},
   "source": [
    "Let's compare the recommendations for the item_id 10.0 ('Counter-Strike') and check if there are similarities:"
   ]
  },
  {
   "cell_type": "code",
   "execution_count": null,
   "metadata": {},
   "outputs": [],
   "source": [
    "mask = (df_FML1_for_Model['title']=='Counter-Strike') | (df_FML1_for_Model['title']== \"Insurgency\") | (df_FML1_for_Model['title']=='Eradicator') | (df_FML1_for_Model['title']=='Battlefield: Bad Company™ 2') |(df_FML1_for_Model['title']=='Counter-Strike: Source')| (df_FML1_for_Model['title']=='Counter-Strike: Condition Zero')\n",
    "df_FML1_Evaluation = df_FML1[mask]\n",
    "df_FML1_Evaluation"
   ]
  },
  {
   "cell_type": "markdown",
   "metadata": {},
   "source": [
    "Let's review only the tags:"
   ]
  },
  {
   "cell_type": "code",
   "execution_count": null,
   "metadata": {},
   "outputs": [],
   "source": [
    "print(df_FML1_Evaluation.iloc[0,3])\n",
    "print(df_FML1_Evaluation.iloc[1,3])\n",
    "print(df_FML1_Evaluation.iloc[2,3])\n",
    "print(df_FML1_Evaluation.iloc[3,3])\n",
    "print(df_FML1_Evaluation.iloc[4,3])\n",
    "print(df_FML1_Evaluation.iloc[5,3])"
   ]
  },
  {
   "cell_type": "markdown",
   "metadata": {},
   "source": [
    "We create a dataframe with only the tags for this random evaluation:"
   ]
  },
  {
   "cell_type": "code",
   "execution_count": null,
   "metadata": {},
   "outputs": [],
   "source": [
    "tags_Evaluation = df_FML1_Evaluation[['tags']]\n",
    "tags_Evaluation"
   ]
  },
  {
   "cell_type": "code",
   "execution_count": null,
   "metadata": {},
   "outputs": [],
   "source": [
    "rows = tags_Evaluation.iloc[0:5, 0]\n",
    "rows"
   ]
  },
  {
   "cell_type": "markdown",
   "metadata": {},
   "source": [
    "Now we are going to find the common tags between all the recommended items and the item_id entered by the user:"
   ]
  },
  {
   "cell_type": "code",
   "execution_count": null,
   "metadata": {},
   "outputs": [],
   "source": [
    "import ast\n",
    "import pandas as pd\n",
    "\n",
    "# Select the first 5 rows from the 'tags_Evaluation' DataFrame\n",
    "rows = tags_Evaluation.iloc[0:5, 0]\n",
    "\n",
    "# Convert strings into lists using ast.literal_eval\n",
    "rows = rows.apply(lambda x: ast.literal_eval(x) if isinstance(x, str) else x)\n",
    "\n",
    "# Find the intersection of sets among all rows\n",
    "common_elements = set(rows.iloc[0]).intersection(*rows.iloc[1:])\n",
    "\n",
    "# Convert the set intersection into a list\n",
    "common_elements_list = list(common_elements)\n",
    "\n",
    "# Display the common elements\n",
    "print(common_elements_list)"
   ]
  },
  {
   "cell_type": "markdown",
   "metadata": {},
   "source": [
    "We can see that there are 4 tags that are repeated through all the items recommended by the model and the item_id entered by the user."
   ]
  },
  {
   "cell_type": "markdown",
   "metadata": {},
   "source": [
    "Now we are going to check how many distinct tags we have for all the items:"
   ]
  },
  {
   "cell_type": "code",
   "execution_count": null,
   "metadata": {},
   "outputs": [],
   "source": [
    "import ast\n",
    "\n",
    "# Concatenate all word lists into a single list\n",
    "rows = tags_Evaluation.iloc[0:5, 0]\n",
    "all_words = [word for row in rows for word in ast.literal_eval(row) if isinstance(row, str)]\n",
    "\n",
    "# Create a set of unique words\n",
    "unique_words = set(all_words)\n",
    "\n",
    "# Get the count of unique words\n",
    "unique_word_count = len(unique_words)\n",
    "\n",
    "# Print the count of unique words\n",
    "print(f'Number of distinct tags in the set of rows: {unique_word_count}')"
   ]
  },
  {
   "cell_type": "code",
   "execution_count": null,
   "metadata": {},
   "outputs": [],
   "source": [
    "import ast\n",
    "from collections import Counter\n",
    "\n",
    "# Concatenate all word lists into a single list\n",
    "rows = tags_Evaluation.iloc[0:5, 0]\n",
    "all_words = [word for row in rows for word in ast.literal_eval(row) if isinstance(row, str)]\n",
    "\n",
    "# Count the frequency of each word\n",
    "word_counter = Counter(all_words)\n",
    "\n",
    "# Find the top 38 most common words\n",
    "common_words = word_counter.most_common(38)\n",
    "\n",
    "# Print the top 38 most common words along with their counts\n",
    "for word, frequency in common_words:\n",
    "    print(f'Tag: {word}, Frequency: {frequency}')"
   ]
  },
  {
   "cell_type": "markdown",
   "metadata": {},
   "source": [
    "Now, let's calculate some metrics that can help us to evaluate the model. However, in this case we don't have the real recommendation made by a real person, in order to make a comparison between the model and the reality. But, we can consider some other metrics that evaluates the smilarities between the item_id entered by the user an the items recommended by the model. These metrics can be the following:\n",
    "\n",
    "1. **Recall of Common Features:**\n",
    "\n",
    "Recall measures the proportion of common features between the recommended items compared to all possible common features. We can calculate it as follows:\n",
    "\n",
    "$$ \\text{Recall} = \\frac{\\text{Number of Common Features Identified}}{\\text{Total Number of Common Features in Recommendations}} $$\n",
    "\n",
    "This will give us an idea of how many of the common features among recommended items the model was able to identify.\n",
    "\n",
    "2. **Precision of Common Features:**\n",
    "\n",
    "Precision measures the proportion of correctly identified common features among the recommended items compared to all identified features. We can calculate it as follows:\n",
    "\n",
    "$$ \\text{Precision} = \\frac{\\text{Number of Correctly Identified Common Features}}{\\text{Total Number of Identified Features}} $$\n",
    "\n",
    "This will give us an idea of how accurately the model identifies common features among the recommended items.\n",
    "\n",
    "3. **F1-Score of Common Features:**\n",
    "\n",
    "The F1-Score combines recall and precision into a single metric and can be useful if we want to strike a balance between both metrics. we can calculate it as follows:\n",
    "\n",
    "$$ \\text{F1-Score} = 2\\cdot \\frac{\\text{Precision} \\cdot \\text{Recall}}{\\text{Precision}+\\text{Recall}} $$\n",
    "\n",
    "This will provide us with a metric that considers both precision and recall.\n",
    "\n",
    "4. **Jaccard Similarity of Common Features:**\n",
    "\n",
    "Jaccard Similarity is used to measure the similarity between sets and can be useful for evaluating the similarity between common features identified by the model and the actual common features. We can calculate it as follows:\n",
    "\n",
    "$$ \\text{Jaccard Similarity} = \\frac{\\text{Size of Intersection}}{\\text{Size of Union}} $$\n",
    "\n",
    "This will give us a measure of the similarity between the identified common features and the actual common features."
   ]
  },
  {
   "cell_type": "markdown",
   "metadata": {},
   "source": [
    "Now, we calculate the **Recall** for the ranodm evaluation above:"
   ]
  },
  {
   "cell_type": "code",
   "execution_count": null,
   "metadata": {},
   "outputs": [],
   "source": [
    "# Call the Game_Recommendation function for the user item in question\n",
    "user_item_id = 10  # Replace this with the ID of the user item you want to evaluate\n",
    "recommendations = Game_Recommendation(user_item_id)\n",
    "\n",
    "# Extract recommendation titles\n",
    "titles = [rec[f'Rec {i}'] for i, rec in enumerate(recommendations, start=1)]\n",
    "\n",
    "# Initialize variables to keep track of metrics\n",
    "total_common_features_identified = 0\n",
    "total_common_features_user = 0\n",
    "\n",
    "for title in titles:\n",
    "    # Look up corresponding tags for each title in df_FML1_for_Model\n",
    "    matching_row = df_FML1_for_Model[df_FML1_for_Model['title'] == title]\n",
    "    if not matching_row.empty:\n",
    "        tags = set(matching_row.iloc[0]['tags'].split(', '))\n",
    "        \n",
    "        # Calculate actual common features with the user's item\n",
    "        user_common_features = set(df_FML1_for_Model[df_FML1_for_Model['item_id'] == user_item_id]['tags'].values[0].split(', '))\n",
    "        \n",
    "        # Calculate metrics for this recommendation\n",
    "        num_common_features_identified = len(tags.intersection(user_common_features))\n",
    "        num_common_features_user = len(user_common_features)\n",
    "        \n",
    "        # Update the totals\n",
    "        total_common_features_identified += num_common_features_identified\n",
    "        total_common_features_user += num_common_features_user\n",
    "\n",
    "# Calculate Recall for this user item\n",
    "if total_common_features_user > 0:\n",
    "    recall = total_common_features_identified / total_common_features_user\n",
    "else:\n",
    "    recall = 0.0\n",
    "\n",
    "# Print the Recall\n",
    "print(f\"Recall for user_item_id {user_item_id}: {recall:.4f}\")"
   ]
  },
  {
   "cell_type": "markdown",
   "metadata": {},
   "source": [
    "We can see the **Recall is 0.48**. This means that the model has correctly identified 48% of the common tags between the item entered by the user and the recommended items. In other words, the model has found 48% of the tags that should have been recommended to the user with item ID 10 were indeed included in the recommendations. However, we know that all the items have differences that makes them unique and valuable. So this is a good result since the recommendations are not exactly the same, but has some similarities in a balanced way (48%). It allows the user to explore new concepts and characteristics that could be surprisely pleasant."
   ]
  },
  {
   "cell_type": "markdown",
   "metadata": {},
   "source": [
    "Now, we calculate the **Precision** for the random evaluation above:"
   ]
  },
  {
   "cell_type": "code",
   "execution_count": null,
   "metadata": {},
   "outputs": [],
   "source": [
    "# Call the Game_Recommendation function for the user item in question\n",
    "user_item_id = 10  # Replace this with the ID of the user item you want to evaluate\n",
    "recommendations = Game_Recommendation(user_item_id)\n",
    "\n",
    "# Extract recommendation titles\n",
    "titles = [rec[f'Rec {i}'] for i, rec in enumerate(recommendations, start=1)]\n",
    "\n",
    "# Initialize variables to keep track of metrics\n",
    "total_common_features_identified = 0\n",
    "total_identified_features = 0\n",
    "\n",
    "for title in titles:\n",
    "    # Look up corresponding tags for each title in df_FML1_for_Model\n",
    "    matching_row = df_FML1_for_Model[df_FML1_for_Model['title'] == title]\n",
    "    if not matching_row.empty:\n",
    "        tags = set(matching_row.iloc[0]['tags'].split(', '))\n",
    "        \n",
    "        # Calculate common features with the user item\n",
    "        user_common_features = set(df_FML1_for_Model[df_FML1_for_Model['item_id'] == user_item_id]['tags'].values[0].split(', '))\n",
    "        \n",
    "        # Calculate metrics for this recommendation\n",
    "        num_common_features_identified = len(tags.intersection(user_common_features))\n",
    "        num_identified_features = len(tags)\n",
    "        \n",
    "        # Update the totals\n",
    "        total_common_features_identified += num_common_features_identified\n",
    "        total_identified_features += num_identified_features\n",
    "\n",
    "# Calculate the precision for this user item\n",
    "if total_identified_features > 0:\n",
    "    precision = total_common_features_identified / total_identified_features\n",
    "else:\n",
    "    precision = 0.0\n",
    "\n",
    "# Print the precision\n",
    "print(f\"Precision for user_item_id {user_item_id}: {precision:.4f}\")"
   ]
  },
  {
   "cell_type": "markdown",
   "metadata": {},
   "source": [
    "We can see the **Precision is 0.55**. \"Precision\" refers to how many of the recommended items are actually relevant to the user. A precision score of 0.55 means that 55% of the recommended items were accurate and relevant to the user with item_id 10. A higher precision score indicates a better quality of recommendations because it means that a larger proportion of the recommended items were actually of interest to the user."
   ]
  },
  {
   "cell_type": "markdown",
   "metadata": {},
   "source": [
    "Now we calcualte the **F1-Score** for this random evaluation:"
   ]
  },
  {
   "cell_type": "code",
   "execution_count": null,
   "metadata": {},
   "outputs": [],
   "source": [
    "# Calculate the F1-Score\n",
    "f1_score = 2 * (precision * recall) / (precision + recall)\n",
    "\n",
    "print(f\"F1-Score for item_id {user_item_id}: {f1_score:.4f}\")"
   ]
  },
  {
   "cell_type": "markdown",
   "metadata": {},
   "source": [
    "We can see the **F1-Score is 0.51**. This indicates a balance between precision and recall in the evaluation of a model. The F1-Score is a metric that combines both metrics, and its value varies between 0 and 1, where:\n",
    "\n",
    "- An F1-Score of 0 means the model performs very poorly in terms of balancing precision and recall.\n",
    "- An F1-Score of 1 means the model performs perfectly in terms of balancing precision and recall.\n",
    "\n",
    "In this case, an F1-Score of 0.51 suggests that the model has a moderate performance in identifying common features among the recommended items. That is, the model is neither very precise nor has good recall but achieves an acceptable balance between both metrics. Overall, an F1-Score of 0.51 suggests that the model has room for improvement in terms of its ability to identify common tags. However, using an approximation of the cosine-similatiry method and only one column of our entire dataset (tags), we can say that the reommended items given by the model are a goog approximation to what the users may want. Not exactly the same, but with similarities. This was a good balance bewteen the good results obtained and resoruces optimization. "
   ]
  },
  {
   "cell_type": "markdown",
   "metadata": {},
   "source": [
    "Finally, we calculate the **Jaccard Similarity Coefficient** for each recommended item."
   ]
  },
  {
   "cell_type": "code",
   "execution_count": null,
   "metadata": {},
   "outputs": [],
   "source": [
    "# Recommended Items Data\n",
    "item_recommended_1 = ['FPS', 'Realistic', 'Tactical', 'Multiplayer', 'Action', 'Shooter', 'Military', 'Team-Based', 'Co-op', 'Strategy', 'First-Person', 'Online Co-Op', 'War', 'Indie', 'Competitive', 'Simulation', 'PvP', 'Atmospheric', 'Singleplayer', 'Adventure']\n",
    "item_recommended_2 = ['Action', 'FPS', 'Classic', 'First-Person', \"1990's\", 'Shooter', 'Retro']\n",
    "item_recommended_3 = ['FPS', 'Multiplayer', 'Action', 'Shooter', 'Team-Based', 'War', 'First-Person', 'Military', 'Destruction', 'Singleplayer', 'Tactical', 'Co-op', 'Atmospheric', 'Comedy', 'Classic', 'Open World', 'Strategy', 'Adventure', 'Simulation', 'Sandbox']\n",
    "item_recommended_4 = ['Action', 'FPS', 'Multiplayer', 'Shooter', 'Team-Based', 'Tactical', 'First-Person', 'Competitive', 'PvP', 'Military', 'War', 'e-sports', 'Moddable', 'Strategy', 'Difficult', 'Singleplayer', 'Survival', 'Simulation', 'Atmospheric', 'Sandbox']\n",
    "item_recommended_5 = ['Action', 'FPS', 'Shooter', 'Multiplayer', 'Singleplayer', 'Tactical', 'First-Person', 'Competitive', 'Team-Based', 'Classic', 'Strategy', 'Military', 'Online Co-Op', 'Adventure', 'Open World', 'Survival', 'Atmospheric', 'Dark', 'Simulation', 'Horror']\n",
    "\n",
    "# User-Entered Item\n",
    "user_entered_item = ['Action', 'FPS', 'Multiplayer', 'Shooter', 'Classic', 'Team-Based', 'Competitive', 'First-Person', 'Tactical', \"1990's\", 'e-sports', 'PvP', 'Military', 'Strategy', 'Score Attack', 'Survival', 'Assassin', '1980s', 'Ninja', 'Tower Defense']\n",
    "\n",
    "# Convert the feature sets into sets\n",
    "set_recommended_1 = set(item_recommended_1)\n",
    "set_recommended_2 = set(item_recommended_2)\n",
    "set_recommended_3 = set(item_recommended_3)\n",
    "set_recommended_4 = set(item_recommended_4)\n",
    "set_recommended_5 = set(item_recommended_5)\n",
    "set_user_entered_item = set(user_entered_item)\n",
    "\n",
    "# Calculate intersections between the user's set and the recommended sets\n",
    "intersection_1 = len(set_recommended_1.intersection(set_user_entered_item))\n",
    "intersection_2 = len(set_recommended_2.intersection(set_user_entered_item))\n",
    "intersection_3 = len(set_recommended_3.intersection(set_user_entered_item))\n",
    "intersection_4 = len(set_recommended_4.intersection(set_user_entered_item))\n",
    "intersection_5 = len(set_recommended_5.intersection(set_user_entered_item))\n",
    "\n",
    "# Calculate unions between the user's set and the recommended sets\n",
    "union_1 = len(set_recommended_1.union(set_user_entered_item))\n",
    "union_2 = len(set_recommended_2.union(set_user_entered_item))\n",
    "union_3 = len(set_recommended_3.union(set_user_entered_item))\n",
    "union_4 = len(set_recommended_4.union(set_user_entered_item))\n",
    "union_5 = len(set_recommended_5.union(set_user_entered_item))\n",
    "\n",
    "# Calculate Jaccard Similarity coefficient for each recommended set\n",
    "jaccard_similarity_1 = intersection_1 / union_1\n",
    "jaccard_similarity_2 = intersection_2 / union_2\n",
    "jaccard_similarity_3 = intersection_3 / union_3\n",
    "jaccard_similarity_4 = intersection_4 / union_4\n",
    "jaccard_similarity_5 = intersection_5 / union_5\n",
    "\n",
    "print(f\"Jaccard Similarity 1: {jaccard_similarity_1}\")\n",
    "print(f\"Jaccard Similarity 2: {jaccard_similarity_2}\")\n",
    "print(f\"Jaccard Similarity 3: {jaccard_similarity_3}\")\n",
    "print(f\"Jaccard Similarity 4: {jaccard_similarity_4}\")\n",
    "print(f\"Jaccard Similarity 5: {jaccard_similarity_5}\")"
   ]
  },
  {
   "cell_type": "markdown",
   "metadata": {},
   "source": [
    "The **Jaccard Similarity coefficients** calculated for each recommended item and the item entered by the user, represent how much similarity or overlap exists between the tags of the items.\n",
    "\n",
    "- Jaccard Similarity 1: 0.379 means that 37.9% of the tags in recommended item 1 match the tags in the user's item.\n",
    "\n",
    "- Jaccard Similarity 2: 0.285 means that 28.5% of the tags in recommended set 2 match the tags in the user's item.\n",
    "\n",
    "- Jaccard Similarity 3: 0.333 means that 33.3% of the tags in recommended set 3 match the tags in the user's item.\n",
    "\n",
    "- Jaccard Similarity 4: 0.481 means that 48.1% of the tags in recommended set 4 match the tags in the user's item.\n",
    "\n",
    "- Jaccard Similarity 5: 0.428 means that 42.8% of the tags in recommended set 5 match the tags in the user's item.\n",
    "\n",
    "In general, these values indicate the degree of similarity between the tags of the recommended itms and the user's items. The higher the Jaccard Similarity value, the greater the overlap of tags, and therefore, the higher the similarity between the items. In this case, the values range from approximately 28% to 48%, suggesting that there is some similarity between the tags but also some differences in each recommended item compared to the user's item. For us, this is good, not too similar, bot also not too different. "
   ]
  },
  {
   "cell_type": "markdown",
   "metadata": {},
   "source": [
    "Now, let's calculate the average of these metrics for 10 random items entered by the user and its corresponding recommendations:"
   ]
  },
  {
   "cell_type": "code",
   "execution_count": null,
   "metadata": {},
   "outputs": [],
   "source": [
    "# Use the sample function to select 30 random elements from the 'item_id' column\n",
    "random_selection = df_FML1_for_Model['item_id'].sample(n=50)"
   ]
  },
  {
   "cell_type": "code",
   "execution_count": null,
   "metadata": {},
   "outputs": [],
   "source": [
    "import pandas as pd\n",
    "import numpy as np\n",
    "\n",
    "# Initialize lists to store Recall, Precision, F1-Score, and Jaccard Similarity scores for each item\n",
    "recall_scores = []\n",
    "precision_scores = []\n",
    "f1_scores = []\n",
    "jaccard_similarity_scores = []\n",
    "\n",
    "for user_item_id in random_selection:\n",
    "    # Apply the Game_RecommendationLSH function and extract recommendations\n",
    "    recommendations = Game_Recommendation(user_item_id)\n",
    "    \n",
    "    # Extract recommendation titles\n",
    "    titles = [rec[f'Rec {i}'] for i, rec in enumerate(recommendations, start=1)]\n",
    "    \n",
    "    # Initialize variables to track common features\n",
    "    total_common_features_identified = 0\n",
    "    total_common_features_user = 0\n",
    "    total_identified_features = 0\n",
    "    jaccard_similarities = []  # To store Jaccard Similarity values in this iteration\n",
    "    \n",
    "    for title in titles:\n",
    "        # Look up corresponding tags for each title in df_FML1_for_Model\n",
    "        matching_row = df_FML1_for_Model[df_FML1_for_Model['title'] == title]\n",
    "        if not matching_row.empty:\n",
    "            tags = set(matching_row.iloc[0]['tags'].split(', '))\n",
    "            \n",
    "            # Calculate actual common features for the user's item\n",
    "            user_common_features = set(df_FML1_for_Model[df_FML1_for_Model['item_id'] == user_item_id]['tags'].values[0].split(', '))\n",
    "            \n",
    "            # Calculate metrics for this recommendation\n",
    "            num_common_features_identified = len(tags.intersection(user_common_features))\n",
    "            num_common_features_user = len(user_common_features)\n",
    "            num_identified_features = len(tags)\n",
    "            \n",
    "            # Update total counts\n",
    "            total_common_features_identified += num_common_features_identified\n",
    "            total_common_features_user += num_common_features_user\n",
    "            total_identified_features += num_identified_features\n",
    "            \n",
    "            # Calculate Jaccard Similarity for this recommendation\n",
    "            jaccard_similarity = num_common_features_identified / (num_common_features_user + num_identified_features - num_common_features_identified)\n",
    "            jaccard_similarities.append(jaccard_similarity)\n",
    "    \n",
    "    # Calculate Recall for this item\n",
    "    recall = total_common_features_identified / total_common_features_user\n",
    "    \n",
    "    # Calculate Precision for this item\n",
    "    precision = total_common_features_identified / total_identified_features\n",
    "    \n",
    "    # Calculate F1-Score for this item\n",
    "    if precision + recall > 0:\n",
    "        f1_score = 2 * (precision * recall) / (precision + recall)\n",
    "    else:\n",
    "        f1_score = 0.0\n",
    "    \n",
    "    # Calculate the average Jaccard Similarity for this iteration\n",
    "    avg_jaccard_similarity = sum(jaccard_similarities) / len(jaccard_similarities)\n",
    "    \n",
    "    # Add Recall, Precision, F1-Score, and average Jaccard Similarity to their respective lists\n",
    "    recall_scores.append(recall)\n",
    "    precision_scores.append(precision)\n",
    "    f1_scores.append(f1_score)\n",
    "    jaccard_similarity_scores.append(avg_jaccard_similarity)  # Store the average for this iteration\n",
    "\n",
    "# Calculate the average Recall, Precision, F1-Score, and Jaccard Similarity over the 10 items\n",
    "average_recall = sum(recall_scores) / len(recall_scores)\n",
    "average_precision = sum(precision_scores) / len(precision_scores)\n",
    "average_f1_score = sum(f1_scores) / len(f1_scores)\n",
    "average_jaccard_similarity = sum(jaccard_similarity_scores) / len(jaccard_similarity_scores)\n",
    "\n",
    "# Calculate the standard deviation of Recall, Precision, F1-Score, and Jaccard Similarity\n",
    "std_recall = np.std(recall_scores)\n",
    "std_precision = np.std(precision_scores)\n",
    "std_f1_score = np.std(f1_scores)\n",
    "std_jaccard_similarity = np.std(jaccard_similarity_scores)\n",
    "\n",
    "# Print the results in the desired format, including the standard deviation\n",
    "print(f\"Average Recall: {average_recall:.4f} +/- {std_recall:.4f} \")\n",
    "print(f\"Average Precision: {average_precision:.4f} +/- {std_precision:.4f} \")\n",
    "print(f\"Average F1-Score: {average_f1_score:.4f} +/- {std_f1_score:.4f} \")\n",
    "print(f\"Average Jaccard Similarity: {average_jaccard_similarity:.4f} +/- {std_jaccard_similarity:.4f} \")\n"
   ]
  },
  {
   "cell_type": "markdown",
   "metadata": {},
   "source": [
    "The model demonstrates excellent performance based on the metrics observed. Conducting 50 iterations where the recommendation system successfully operates for a specific item_id, provides a robust sample for approximating the model's performance across the entire population of items. \n",
    "\n",
    "**Recall:** Recall measures the proportion of relevant items that were recommended by our system. An average recall of 0.9282 suggests that, on average, our system is able to recommend about 92.82% of the relevant items. The +/- 0.8433 represents the standard deviation or uncertainty in this measure across our 50 random item selections. In other words, there's some variability in how well our system performs from one random selection to another.\n",
    "\n",
    "**Precision:** Precision measures the proportion of recommended items that are actually relevant. An average precision of 0.9597 suggests that, on average, about 95.97% of the recommended items are relevant to the user. The standard deviation (+/- 0.8935) indicates the variability in precision across different random selections.\n",
    "\n",
    "**F1-Score:** The F1-Score is the harmonic mean of precision and recall and is a balance between the two. An average F1-Score of 0.9625 suggests a reasonable balance between precision and recall in our recommendations. The standard deviation (+/- 0.8962) indicates variability across different random selections.\n",
    "\n",
    "**Average Jaccard Similarity:** Jaccard Similarity measures the similarity between the set of recommended items and the set of relevant items. An average Jaccard Similarity of 0.9623 suggests that, on average, there is a 96.23% similarity between the recommended items and the relevant items. The standard deviation (+/- 0.8709) indicates the variability in similarity across different random selections.\n",
    "\n",
    "In summary, our content-based recommendation system seems to have a reasonable level of performance, with a decent balance between precision and recall. However, there is some variability in these metrics across different random selections, which may indicate that the system's performance could be further optimized. These metrics provide insights into how well our system is capturing relevant items and how precise its recommendations are. By the other hand, as we exposed before, there must be a good balance between similarities and differences to avoid showing exactly the same content, but keeping some differences that can cause a pleasant surprise in the user. The metrics above show that balance and that is exactly what we want. Also, it is good to notice that we did not use the cosine-similarity method due to it consumes high quantity of resources, so we decided to use an approximation called LSH (Locality-Sensitive Hashing), that converts our information using hash functions in order to consume less resources but keeping the differences and similarities. For sure there is always room for improvement, but this basic model was optimized to consume the less resources with the most of performance. Finally, the tags showed that they are a good way to describe an item and look for similarities in the recommendation system. "
   ]
  }
 ],
 "metadata": {
  "kernelspec": {
   "display_name": "Python 3 (ipykernel)",
   "language": "python",
   "name": "python3"
  },
  "language_info": {
   "codemirror_mode": {
    "name": "ipython",
    "version": 3
   },
   "file_extension": ".py",
   "mimetype": "text/x-python",
   "name": "python",
   "nbconvert_exporter": "python",
   "pygments_lexer": "ipython3",
   "version": "3.11.5"
  }
 },
 "nbformat": 4,
 "nbformat_minor": 2
}
